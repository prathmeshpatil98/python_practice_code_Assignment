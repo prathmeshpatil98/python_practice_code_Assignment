{
 "cells": [
  {
   "cell_type": "code",
   "execution_count": 4,
   "metadata": {},
   "outputs": [
    {
     "ename": "TypeError",
     "evalue": "myDecorator() missing 1 required positional argument: 'b'",
     "output_type": "error",
     "traceback": [
      "\u001b[1;31m---------------------------------------------------------------------------\u001b[0m",
      "\u001b[1;31mTypeError\u001b[0m                                 Traceback (most recent call last)",
      "Cell \u001b[1;32mIn[4], line 10\u001b[0m\n\u001b[0;32m      7\u001b[0m         \u001b[38;5;28mprint\u001b[39m(\u001b[38;5;124m\"\u001b[39m\u001b[38;5;124mEnd of wrapper function.\u001b[39m\u001b[38;5;124m\"\u001b[39m)\n\u001b[0;32m      8\u001b[0m     \u001b[38;5;28;01mreturn\u001b[39;00m wrapper\n\u001b[1;32m---> 10\u001b[0m \u001b[38;5;129;43m@myDecorator\u001b[39;49m\n\u001b[0;32m     11\u001b[0m \u001b[38;5;28;43;01mdef\u001b[39;49;00m\u001b[43m \u001b[49m\u001b[38;5;21;43maddToCart\u001b[39;49m\u001b[43m(\u001b[49m\u001b[43m)\u001b[49m\u001b[43m:\u001b[49m\n\u001b[0;32m     12\u001b[0m \u001b[43m    \u001b[49m\u001b[38;5;28;43mprint\u001b[39;49m\u001b[43m(\u001b[49m\u001b[38;5;124;43m\"\u001b[39;49m\u001b[38;5;124;43mProduct adding to cart.\u001b[39;49m\u001b[38;5;124;43m\"\u001b[39;49m\u001b[43m)\u001b[49m\n\u001b[0;32m     14\u001b[0m \u001b[38;5;129m@myDecorator\u001b[39m\n\u001b[0;32m     15\u001b[0m \u001b[38;5;28;01mdef\u001b[39;00m \u001b[38;5;21mbuyNow\u001b[39m():\n",
      "\u001b[1;31mTypeError\u001b[0m: myDecorator() missing 1 required positional argument: 'b'"
     ]
    }
   ],
   "source": [
    "def myDecorator(a,b):\n",
    "    print(\"This is the first line.\")\n",
    "    def wrapper():\n",
    "        print(\"We're in wrapper function.\")\n",
    "        a()\n",
    "        b()\n",
    "        print(\"End of wrapper function.\")\n",
    "    return wrapper\n",
    "\n",
    "@myDecorator\n",
    "def addToCart():\n",
    "    print(\"Product adding to cart.\")\n",
    "\n",
    "@myDecorator\n",
    "def buyNow():\n",
    "    print(\"Buy product.\")\n",
    "\n",
    "addToCart()\n",
    "buyNow()"
   ]
  },
  {
   "cell_type": "code",
   "execution_count": null,
   "metadata": {},
   "outputs": [],
   "source": []
  },
  {
   "cell_type": "code",
   "execution_count": null,
   "metadata": {},
   "outputs": [],
   "source": []
  },
  {
   "cell_type": "code",
   "execution_count": null,
   "metadata": {},
   "outputs": [],
   "source": []
  },
  {
   "cell_type": "code",
   "execution_count": null,
   "metadata": {},
   "outputs": [],
   "source": []
  },
  {
   "cell_type": "code",
   "execution_count": null,
   "metadata": {},
   "outputs": [],
   "source": []
  },
  {
   "cell_type": "code",
   "execution_count": null,
   "metadata": {},
   "outputs": [],
   "source": []
  },
  {
   "cell_type": "code",
   "execution_count": null,
   "metadata": {},
   "outputs": [],
   "source": []
  },
  {
   "cell_type": "code",
   "execution_count": null,
   "metadata": {},
   "outputs": [],
   "source": []
  },
  {
   "cell_type": "code",
   "execution_count": 5,
   "metadata": {},
   "outputs": [
    {
     "name": "stdout",
     "output_type": "stream",
     "text": [
      "This is the first line.\n",
      "We're in wrapper function.\n",
      "Product adding to cart.\n",
      "End of wrapper function.\n",
      "This is the first line.\n",
      "We're in wrapper function.\n",
      "Buy product.\n",
      "End of wrapper function.\n"
     ]
    }
   ],
   "source": [
    "def myDecorator(a):\n",
    "    def wrapper():\n",
    "        print(\"This is the first line.\")\n",
    "        print(\"We're in wrapper function.\")\n",
    "        a()\n",
    "        print(\"End of wrapper function.\")\n",
    "    return wrapper\n",
    "\n",
    "@myDecorator\n",
    "def addToCart():\n",
    "    print(\"Product adding to cart.\")\n",
    "\n",
    "@myDecorator\n",
    "def buyNow():\n",
    "    print(\"Buy product.\")\n",
    "\n",
    "addToCart()\n",
    "buyNow()\n"
   ]
  },
  {
   "cell_type": "code",
   "execution_count": null,
   "metadata": {},
   "outputs": [],
   "source": []
  }
 ],
 "metadata": {
  "kernelspec": {
   "display_name": "Python 3",
   "language": "python",
   "name": "python3"
  },
  "language_info": {
   "codemirror_mode": {
    "name": "ipython",
    "version": 3
   },
   "file_extension": ".py",
   "mimetype": "text/x-python",
   "name": "python",
   "nbconvert_exporter": "python",
   "pygments_lexer": "ipython3",
   "version": "3.11.1"
  }
 },
 "nbformat": 4,
 "nbformat_minor": 2
}
