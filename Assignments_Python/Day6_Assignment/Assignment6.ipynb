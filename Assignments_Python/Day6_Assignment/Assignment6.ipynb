{
 "cells": [
  {
   "cell_type": "code",
   "execution_count": 4,
   "metadata": {},
   "outputs": [
    {
     "name": "stdout",
     "output_type": "stream",
     "text": [
      "* * * * * \n",
      "*       * \n",
      "*       * \n",
      "*       * \n",
      "*       * \n",
      "* * * * * \n"
     ]
    }
   ],
   "source": [
    "#Question 1\n",
    "\n",
    "for i in range(1 ,7):\n",
    "    for j in range(1 ,6):\n",
    "        if(i==1 or j==1 or i==6 or j==5):\n",
    "            print(\"*\",end=\" \")\n",
    "        else:\n",
    "            print(\" \" , end=\" \")\n",
    "    print()\n",
    "    \n"
   ]
  },
  {
   "cell_type": "code",
   "execution_count": 5,
   "metadata": {},
   "outputs": [
    {
     "name": "stdout",
     "output_type": "stream",
     "text": [
      "* * * * * \n",
      "*       *\n",
      "*       *\n",
      "*       *\n",
      "* * * * * \n"
     ]
    }
   ],
   "source": [
    "# Question  (a)\n",
    "n = 5 \n",
    "for i in range(n):\n",
    "    if i == 0 or i == n - 1:\n",
    "        print(\"* \" * n)\n",
    "    else:\n",
    "        print(\"* \" + \"  \" * (n - 2) + \"*\")\n"
   ]
  },
  {
   "cell_type": "code",
   "execution_count": 5,
   "metadata": {},
   "outputs": [
    {
     "name": "stdout",
     "output_type": "stream",
     "text": [
      "1 \n",
      "2 3 \n",
      "4 5 6 \n",
      "7 8 9 10 \n"
     ]
    }
   ],
   "source": [
    "# Question (b)\n",
    "k = 1 \n",
    "for i in range(1,5): \n",
    "    for j in range(1,i+1): \n",
    "        print(k,end=\" \") \n",
    "        k += 1 \n",
    "    print()\n"
   ]
  },
  {
   "cell_type": "code",
   "execution_count": 13,
   "metadata": {},
   "outputs": [
    {
     "name": "stdout",
     "output_type": "stream",
     "text": [
      "         1  \n",
      "       1   1  \n",
      "     1   2   1  \n",
      "   1   3   3   1  \n"
     ]
    }
   ],
   "source": [
    "\n",
    "# Question C\n",
    "\n",
    "for i in range(1,5): \n",
    "        for j in range(1,6-i): \n",
    "                print(\" \",end=\" \") \n",
    "         \n",
    "        for j in range(1,i+1): \n",
    "                if j==1 or j==i: \n",
    "                        print(\" 1 \",end=\" \") \n",
    "                else: \n",
    "                        print(\"\",i-1,\"\",end=\" \")\n",
    "\n",
    "        print()"
   ]
  },
  {
   "cell_type": "code",
   "execution_count": 8,
   "metadata": {},
   "outputs": [
    {
     "name": "stdout",
     "output_type": "stream",
     "text": [
      "A \n",
      "A B \n",
      "A B C \n",
      "A B C D \n",
      "A B C D E \n"
     ]
    }
   ],
   "source": [
    "# Question D \n",
    "\n",
    "n = 5  # Number of rows\n",
    "for i in range(1, n + 1):\n",
    "    for j in range(1, i + 1):\n",
    "        print(chr(64 + j), end=\" \")\n",
    "    print()\n"
   ]
  },
  {
   "cell_type": "code",
   "execution_count": 17,
   "metadata": {},
   "outputs": [
    {
     "name": "stdout",
     "output_type": "stream",
     "text": [
      "          * \n",
      "        * * * \n",
      "      * * * * * \n",
      "    * * * * * * * \n",
      "  * * * * * * * * * \n"
     ]
    }
   ],
   "source": [
    "# Pattern (e)\n",
    "for i in range(1,6): \n",
    "    for j in range(1,7-i): \n",
    "        print(\" \",end=\" \") \n",
    "         \n",
    "    for j in range(1,i+1): \n",
    "        print(\"*\",end=\" \") \n",
    "         \n",
    "    for j in range(2,i+1): \n",
    "        print(\"*\",end=\" \") \n",
    "    print()"
   ]
  },
  {
   "cell_type": "code",
   "execution_count": 13,
   "metadata": {},
   "outputs": [
    {
     "name": "stdout",
     "output_type": "stream",
     "text": [
      "          1 \n",
      "        1 2 3 \n",
      "      1 2 3 4 5 \n",
      "    1 2 3 4 5 6 7 \n",
      "  1 2 3 4 5 6 7 8 9 \n"
     ]
    }
   ],
   "source": [
    "# Q6\n",
    "for i in range(1,6):\n",
    "    for j in range(1, 7-i):\n",
    "        print(\" \", end =\" \")\n",
    "    for k in range(1,i+1):\n",
    "        print(k, end =\" \")\n",
    "    p = k+1\n",
    "    for j in range(2,i+1):\n",
    "        print(p, end =\" \")\n",
    "        p += 1 \n",
    "    print()"
   ]
  },
  {
   "cell_type": "code",
   "execution_count": 16,
   "metadata": {},
   "outputs": [
    {
     "name": "stdout",
     "output_type": "stream",
     "text": [
      "          A \n",
      "        A B C \n",
      "      A B C D E \n",
      "    A B C D E F G \n",
      "  A B C D E F G H I \n"
     ]
    }
   ],
   "source": [
    "# Pattern (g)\n",
    "for i in range(1,6): \n",
    "    for j in range(1,7-i): \n",
    "        print(\" \",end=\" \") \n",
    "     \n",
    "    s = 65     \n",
    "    for j in range(1,i+1): \n",
    "        print(chr(s),end=\" \") \n",
    "        s += 1 \n",
    "         \n",
    "    k = s  \n",
    "    for j in range(2,i+1): \n",
    "        print(chr(k),end=\" \") \n",
    "        k += 1 \n",
    "         \n",
    "    print()"
   ]
  },
  {
   "cell_type": "code",
   "execution_count": null,
   "metadata": {},
   "outputs": [],
   "source": []
  }
 ],
 "metadata": {
  "kernelspec": {
   "display_name": "Python 3",
   "language": "python",
   "name": "python3"
  },
  "language_info": {
   "codemirror_mode": {
    "name": "ipython",
    "version": 3
   },
   "file_extension": ".py",
   "mimetype": "text/x-python",
   "name": "python",
   "nbconvert_exporter": "python",
   "pygments_lexer": "ipython3",
   "version": "3.11.1"
  }
 },
 "nbformat": 4,
 "nbformat_minor": 2
}
