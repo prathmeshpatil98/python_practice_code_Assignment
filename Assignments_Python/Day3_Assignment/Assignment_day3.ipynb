{
 "cells": [
  {
   "cell_type": "code",
   "execution_count": null,
   "metadata": {},
   "outputs": [
    {
     "name": "stdout",
     "output_type": "stream",
     "text": [
      "The Triangle is Not Valid\n"
     ]
    }
   ],
   "source": [
    "# 3 Write a program to input angles of a triangle and check whether triangle is valid or not.\n",
    "\n",
    "a = int(input(\"Please Enter the First Angle : \"))\n",
    "b = int(input(\"Please Enter the Second Angle : \"))\n",
    "c = int(input(\"Please Enter the Third Angle : \"))\n",
    "\n",
    "if(a+b+c==180):\n",
    "    print(\"The Triangle is Valid\")\n",
    "else:\n",
    "    print(\"The Triangle is Not Valid\")\n",
    "    \n"
   ]
  },
  {
   "cell_type": "code",
   "execution_count": 5,
   "metadata": {},
   "outputs": [
    {
     "name": "stdout",
     "output_type": "stream",
     "text": [
      "The Triangle is Valid\n"
     ]
    }
   ],
   "source": [
    "#4 Write a program to input all sides of a triangle and check whether triangle is valid or not. \n",
    "\n",
    "a = int(input(\"Please Enter the First Side : \"))\n",
    "b = int(input(\"Please Enter the Second Side : \"))\n",
    "c = int(input(\"Please Enter the Third Side : \"))\n",
    "\n",
    "if(a+b>c and b+c>a and c+a>b):\n",
    "    print(\"The Triangle is Valid\")\n",
    "else:\n",
    "    print(\"The Triangle is Not Valid\")\n",
    "    \n",
    "    "
   ]
  },
  {
   "cell_type": "code",
   "execution_count": null,
   "metadata": {},
   "outputs": [],
   "source": [
    "#5 Write a program to check whether the triangle is equilateral, isosceles or scalene triangle.\n",
    "\n",
    "a = int(input(\"Please Enter the First Side : \"))\n",
    "b = int(input(\"Please Enter the Second Side : \"))\n",
    "c = int(input(\"Please Enter the Third Side : \"))\n",
    "\n",
    "if(a==b and b==c):\n",
    "    print(\"The Triangle is Equilateral\")\n",
    "elif(a==b or b==c or c==a):\n",
    "    print(\"The Triangle is Isosceles\")\n",
    "else:\n",
    "    print(\"The Triangle is Scalene\")\n",
    "    \n",
    "    "
   ]
  },
  {
   "cell_type": "code",
   "execution_count": null,
   "metadata": {},
   "outputs": [],
   "source": [
    "#6 Write a program to calculate profit or loss.\n",
    "\n",
    "cost_price = int(input(\"Please Enter the Cost Price : \"))\n",
    "sell_price = int(input(\"Please Enter the Sell Price : \"))\n",
    "\n",
    "if(cost_price<sell_price):\n",
    "    print(\"The Profit is : \",sell_price-cost_price)\n",
    "else:\n",
    "    print(\"The Loss is : \",cost_price-sell_price)\n",
    "    \n",
    "    "
   ]
  },
  {
   "cell_type": "code",
   "execution_count": null,
   "metadata": {},
   "outputs": [],
   "source": [
    "#7 Write a program to check if user has entered correct userid and password.\n",
    "\n",
    "userid = input(\"Please Enter the Userid : \")\n",
    "password = input(\"Please Enter the Password : \")\n",
    "\n",
    "\n",
    "\n",
    "if(userid == \"admin\" and password == \"1234\"):   \n",
    "    print(\"Login Successful\")\n",
    "else:\n",
    "    print(\"Login Failed\")   \n",
    "    \n",
    "    "
   ]
  },
  {
   "cell_type": "code",
   "execution_count": 6,
   "metadata": {},
   "outputs": [
    {
     "name": "stdout",
     "output_type": "stream",
     "text": [
      "Login Successful\n",
      "Your 4 digit random number is :  5109\n",
      "Success\n"
     ]
    }
   ],
   "source": [
    "#8 Write a program to prompt user to enter userid and password. After verifying userid and password display a 4 digit random number and ask user to enter the same. If user enters the same number then show him success message otherwise failed. (Something like captcha) \n",
    "\n",
    "import random\n",
    "userid = input(\"Please Enter the Userid : \")\n",
    "password = input(\"Please Enter the Password : \")\n",
    "\n",
    "if(userid == \"admin\" and password == \"1234\"):   \n",
    "    print(\"Login Successful\")\n",
    "    num = random.randint(1000,9999)\n",
    "    print(\"Your 4 digit random number is : \",num)\n",
    "    user_num = int(input(\"Please Enter the 4 digit random number : \"))\n",
    "    if(user_num == num):\n",
    "        print(\"Success\")\n",
    "    else:\n",
    "        print(\"Failed\")\n",
    "else:\n",
    "    print(\"Login Failed\")"
   ]
  },
  {
   "cell_type": "code",
   "execution_count": null,
   "metadata": {},
   "outputs": [],
   "source": [
    "#9 Input 5 subject marks from user and display grade(eg.First class,Second class ..) \n",
    "\n",
    "marks1 = int(input(\"Please Enter the First Subject Marks : \"))  \n",
    "marks2 = int(input(\"Please Enter the Second Subject Marks : \"))\n",
    "marks3 = int(input(\"Please Enter the Third Subject Marks : \"))\n",
    "marks4 = int(input(\"Please Enter the Fourth Subject Marks : \"))\n",
    "marks5 = int(input(\"Please Enter the Fifth Subject Marks : \"))\n",
    "\n",
    "total = marks1+marks2+marks3+marks4+marks5\n",
    "avg = total/5\n",
    "\n",
    "if(avg>=90 and avg<=100):\n",
    "    print(\"First Class with Distinction\")\n",
    "elif(avg>=80 and avg<90):\n",
    "    print(\"First Class\")\n",
    "elif(avg>=70 and avg<80):\n",
    "    print(\"Second Class\")\n",
    "elif(avg>=60 and avg<70):\n",
    "    print(\"Third Class\")\n",
    "else:\n",
    "    print(\"Fail\")\n",
    "    \n",
    "    "
   ]
  },
  {
   "cell_type": "code",
   "execution_count": null,
   "metadata": {},
   "outputs": [],
   "source": [
    "#10  Write a program to check if person is eligible to marry or not (male age >=21 and female age>=18)\n",
    "\n",
    "age = int(input(\"Please Enter the Age : \"))\n",
    "gender = input(\"Please Enter the Gender : \")\n",
    " \n",
    "if(gender == \"male\"):\n",
    "    if(age>=21):\n",
    "        print(\"Eligible\")\n",
    "    else:\n",
    "        print(\"Not Eligible\")\n",
    "elif(gender == \"female\"):\n",
    "    if(age>=18):\n",
    "        print(\"Eligible\")\n",
    "    else:\n",
    "        print(\"Not Eligible\")\n",
    "else:\n",
    "    print(\"Invalid Gender\")\n",
    "    "
   ]
  },
  {
   "cell_type": "code",
   "execution_count": 11,
   "metadata": {},
   "outputs": [
    {
     "name": "stdout",
     "output_type": "stream",
     "text": [
      "Total ticket amount for all passengers: Rs. 84.00\n"
     ]
    }
   ],
   "source": [
    "#11  Accept age of five people and also per person ticket amount and then calculate total amount to ticket to travel for all of them based on following condition : a. Children below 12 = 30% discount b. Senior citizen (above 59) = 50% discount  c. Others need to pay full. \n",
    "\n",
    "\n",
    "print(\"1. Area of Circle\")\n",
    "print(\"2. Profit Calculation\")\n",
    "print(\"3. Number is Positive or Negative\")\n",
    "print(\"4. Exit\")\n",
    "\n",
    "option = int(input(\"Please Enter the Option You Want: \"))\n",
    "\n",
    "if option == 1:\n",
    "    radius = int(input(\"Please Enter the Radius: \"))\n",
    "    area = 3.14 * radius * radius\n",
    "    print(area, \"is the Area of the Circle\")\n",
    "elif option == 2:\n",
    "    Selling_Price = int(input(\"Please Enter the Selling Price: \"))\n",
    "    cost_price = int(input(\"Please Enter the Cost Price: \"))\n",
    "    if Selling_Price > cost_price:\n",
    "        profit = Selling_Price - cost_price\n",
    "        print(profit, \"Rs, This is the Profit\")\n",
    "    else:\n",
    "        print(\"You have a Loss\")\n",
    "elif option == 3:\n",
    "    number = int(input(\"Please Enter the Number: \"))\n",
    "    if number < 0:\n",
    "        print(number, \"is a Negative Number\")\n",
    "    elif number > 0:\n",
    "        print(number, \"is a Positive Number\")\n",
    "    else:\n",
    "        print(number, \"is Neutral\")\n",
    "elif option == 4:\n",
    "    print(\"Exiting the program.\")\n",
    "else:\n",
    "    print(\"Please Enter a Valid Option.\")\n",
    "\n"
   ]
  },
  {
   "cell_type": "code",
   "execution_count": 9,
   "metadata": {},
   "outputs": [
    {
     "name": "stdout",
     "output_type": "stream",
     "text": [
      "The Number is Not Palindrome\n"
     ]
    }
   ],
   "source": [
    "#12 Write a program to check if given 3 digit number is a palindrome or not.\n",
    "\n",
    "number = int(input(\"Please Enter the Number : \"))\n",
    "\n",
    "hundreds = number // 100\n",
    "tens = (number % 100) // 10\n",
    "ones = number % 10\n",
    "\n",
    "if(hundreds == ones and tens == ones):\n",
    "    print(\"The Number is Palindrome\")\n",
    "else:\n",
    "    print(\"The Number is Not Palindrome\")\n",
    "    \n"
   ]
  },
  {
   "cell_type": "code",
   "execution_count": 8,
   "metadata": {},
   "outputs": [
    {
     "name": "stdout",
     "output_type": "stream",
     "text": [
      "The Bill is :  25.0\n"
     ]
    }
   ],
   "source": [
    "#13  Write a program to input electricity unit charges and calculate total electricity bill according to the given condition: For first 50 units Rs. 0.50/unit For next 100 units Rs. 0.75/unit For next 100 units Rs. 1.20/unit For unit above 250 Rs. 1.50/unit An additional surcharge of 20% is added to the bill\n",
    "\n",
    "units = int(input(\"Please Enter the Number of Units : \"))\n",
    "\n",
    "if(units<=50):\n",
    "    bill = units * 0.5\n",
    "elif(units<=150):\n",
    "    bill = (50*0.5) + ((units-50)*0.75)\n",
    "elif(units<=250):\n",
    "    bill = (50*0.5) + (100*0.75) + ((units-150)*1.2)\n",
    "else:\n",
    "    bill = (50*0.5) + (100*0.75) + (100*1.2) + ((units-250)*1.5)\n",
    "    \n",
    "print(\"The Bill is : \",bill)\n",
    "\n"
   ]
  },
  {
   "cell_type": "code",
   "execution_count": null,
   "metadata": {},
   "outputs": [],
   "source": []
  }
 ],
 "metadata": {
  "kernelspec": {
   "display_name": "Python 3",
   "language": "python",
   "name": "python3"
  },
  "language_info": {
   "codemirror_mode": {
    "name": "ipython",
    "version": 3
   },
   "file_extension": ".py",
   "mimetype": "text/x-python",
   "name": "python",
   "nbconvert_exporter": "python",
   "pygments_lexer": "ipython3",
   "version": "3.11.1"
  }
 },
 "nbformat": 4,
 "nbformat_minor": 2
}
