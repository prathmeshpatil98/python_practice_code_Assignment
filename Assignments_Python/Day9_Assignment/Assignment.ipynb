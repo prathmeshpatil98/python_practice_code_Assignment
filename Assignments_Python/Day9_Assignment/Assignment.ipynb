{
 "cells": [
  {
   "cell_type": "code",
   "execution_count": 2,
   "metadata": {},
   "outputs": [
    {
     "name": "stdout",
     "output_type": "stream",
     "text": [
      "Answer of your series is: 9\n"
     ]
    }
   ],
   "source": [
    "#1. Write a program to find sum of following series using recursive functions:  i. 1! + 2!  + 3! + 4! +….. + n! \n",
    "\n",
    "\n",
    "def factorial(n): \n",
    "    if n==1: \n",
    "        return 1 \n",
    "    return n * factorial(n-1) \n",
    " \n",
    "def sumofSeries(n): \n",
    "    if n== 1: \n",
    "        return factorial(1) \n",
    "    return factorial(n) + sumofSeries(n-1) \n",
    " \n",
    "n = int(input(\"Enter your number:\")) \n",
    "print(\"Answer of your series is:\",sumofSeries(n))"
   ]
  },
  {
   "cell_type": "code",
   "execution_count": 7,
   "metadata": {},
   "outputs": [
    {
     "name": "stdout",
     "output_type": "stream",
     "text": [
      "153 is an Armstrong number.\n"
     ]
    }
   ],
   "source": [
    "#Q2. Write a program to check if given number is Armstrong or not using recursive function.  \n",
    "             \n",
    "             \n",
    "def armstrong(num, count, sum):\n",
    "    if num == 0: \n",
    "        return sum \n",
    "    sum = sum + (num % 10) ** count \n",
    "    return armstrong(num // 10, count, sum) \n",
    "\n",
    "num = int(input(\"Enter your number:\")) \n",
    "count = len(str(num)) \n",
    "ans = armstrong(num, count, 0) \n",
    "\n",
    "if num == ans: \n",
    "    print(num, \"is an Armstrong number.\") \n",
    "else: \n",
    "    print(num, \"is not an Armstrong number.\")\n"
   ]
  },
  {
   "cell_type": "code",
   "execution_count": 8,
   "metadata": {},
   "outputs": [
    {
     "name": "stdout",
     "output_type": "stream",
     "text": [
      "Reverse of your number is: 351\n"
     ]
    }
   ],
   "source": [
    "# Question 3 Write a program to reverse a given number using recursive function... \n",
    "             \n",
    "             \n",
    "def reverse(n,rev): \n",
    "    if n == 0: \n",
    "        return rev \n",
    "    rev = rev*10 + n%10 \n",
    "    return reverse(n//10,rev) \n",
    " \n",
    "n = int(input(\"Enter your number:\")) \n",
    "print(\"Reverse of your number is:\",reverse(n,0)) #153"
   ]
  },
  {
   "cell_type": "code",
   "execution_count": 11,
   "metadata": {},
   "outputs": [
    {
     "name": "stdout",
     "output_type": "stream",
     "text": [
      "Sum of your series is: 15\n"
     ]
    }
   ],
   "source": [
    "#Q4.  Write a program to find sum of n numbers using recursion... \n",
    "             \n",
    "             \n",
    "def sumofSeries(n): \n",
    "    if n==1: \n",
    "        return 1 \n",
    "    return n + sumofSeries(n-1) \n",
    " \n",
    "n = int(input(\"Enter value of n:\")) \n",
    "print(\"Sum of your series is:\",sumofSeries(n)) #5"
   ]
  },
  {
   "cell_type": "code",
   "execution_count": 12,
   "metadata": {},
   "outputs": [
    {
     "name": "stdout",
     "output_type": "stream",
     "text": [
      "Factorial of your number is: 6\n"
     ]
    }
   ],
   "source": [
    "#Q5. Write a program to find factorial using recursion... \n",
    "             \n",
    "             \n",
    "def factorial(num): \n",
    "    if num == 1: \n",
    "        return 1 \n",
    "    return num * factorial(num-1) \n",
    " \n",
    "num = int(input(\"Enter your number:\")) \n",
    "print(\"Factorial of your number is:\",factorial(num))"
   ]
  },
  {
   "cell_type": "code",
   "execution_count": null,
   "metadata": {},
   "outputs": [],
   "source": [
    "#Q6.  Write a program to print Fibonacci series using recursion... \n",
    "             \n",
    "             \n",
    "def fibonacci_Series(n,a,b): \n",
    "    if n==0: \n",
    "        return  \n",
    "    c = a+b \n",
    "    print(c) \n",
    "    a=b \n",
    "    b=c \n",
    "    return fibonacci_Series(n-1,a,b) \n",
    " \n",
    "n = int(input(\"Please Enter number :\")) \n",
    "fibonacci_Series(n,1,0) "
   ]
  },
  {
   "cell_type": "code",
   "execution_count": null,
   "metadata": {},
   "outputs": [
    {
     "name": "stdout",
     "output_type": "stream",
     "text": [
      "Sum of digits of your number is: 6\n"
     ]
    }
   ],
   "source": [
    "#Question 7. Write a program to find sum of digits using recursion... \n",
    "             \n",
    "             \n",
    "def sumofDigits(n,sum): \n",
    "    if n == 0: \n",
    "        return sum \n",
    "    sum += n%10 \n",
    "    return sumofDigits(n//10,sum) \n",
    " \n",
    "num = int(input(\"Enter your number:\")) \n",
    "print(\"Sum of digits of your number is:\",sumofDigits(num,0))"
   ]
  },
  {
   "cell_type": "code",
   "execution_count": null,
   "metadata": {},
   "outputs": [
    {
     "name": "stdout",
     "output_type": "stream",
     "text": [
      "Its is prime number.\n"
     ]
    }
   ],
   "source": [
    "#Question 8. Write a program to check whether a number is prime or not using recursion... \n",
    "             \n",
    "             \n",
    "def prime(num,i): \n",
    "    if i == num: \n",
    "        return \"It is prime number.\" \n",
    "     \n",
    "    if num%i==0: \n",
    "        return \" It is not prime Number.\" \n",
    "    else: \n",
    "        return prime(num,i+1) \n",
    "         \n",
    "num = int(input(\"Enter your number:\")) \n",
    "print(prime(num,2))"
   ]
  },
  {
   "cell_type": "code",
   "execution_count": 21,
   "metadata": {},
   "outputs": [
    {
     "name": "stdout",
     "output_type": "stream",
     "text": [
      " 5 to the power 2 is 25\n"
     ]
    }
   ],
   "source": [
    "#Q9. Write a program to calculate the m to the power n using recursion... \n",
    "             \n",
    "             \n",
    "def power(m,n): \n",
    "    if n==1: \n",
    "        return m \n",
    "     \n",
    "    return m * power(m,n-1) \n",
    " \n",
    "m = int(input(\"Enter m: \")) \n",
    "n = int(input(\"Enter n: \")) \n",
    " \n",
    "print(f\" {m} to the power {n} is {power(m,n)}\")"
   ]
  }
 ],
 "metadata": {
  "kernelspec": {
   "display_name": "Python 3",
   "language": "python",
   "name": "python3"
  },
  "language_info": {
   "codemirror_mode": {
    "name": "ipython",
    "version": 3
   },
   "file_extension": ".py",
   "mimetype": "text/x-python",
   "name": "python",
   "nbconvert_exporter": "python",
   "pygments_lexer": "ipython3",
   "version": "3.11.1"
  }
 },
 "nbformat": 4,
 "nbformat_minor": 2
}
