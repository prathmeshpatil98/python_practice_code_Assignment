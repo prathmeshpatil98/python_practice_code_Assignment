{
 "cells": [
  {
   "cell_type": "code",
   "execution_count": 1,
   "metadata": {},
   "outputs": [
    {
     "name": "stdout",
     "output_type": "stream",
     "text": [
      "Login Successful\n"
     ]
    }
   ],
   "source": [
    "# Write a program to prompt user to enter userid and password. If Id and password is incorrect give him chance to re-enter the credentials. Let him try 3 times. After that program to terminate. \n",
    "\n",
    "userid = input(\"Please Enter the Userid : \")\n",
    "password = input(\"Please Enter the Password : \")\n",
    "\n",
    "for i in range(1,4):\n",
    "    if(userid == \"admin\" and password == \"1234\"):\n",
    "        print(\"Login Successful\")\n",
    "        break\n",
    "    else:\n",
    "        print(\"Invalid Credentials\")\n",
    "        userid = input(\"Please Enter the Userid : \")\n",
    "        password = input(\"Please Enter the Password : \")"
   ]
  },
  {
   "cell_type": "code",
   "execution_count": 11,
   "metadata": {},
   "outputs": [
    {
     "name": "stdout",
     "output_type": "stream",
     "text": [
      "Percentage of student 1 is 45.0\n",
      "Percentage of student 2 is 55.2\n",
      "Average Percentage of students is 50.1\n"
     ]
    }
   ],
   "source": [
    "# Enter number of students from user. For those many students accept marks of 5 subject marks from user and calculate percentage. Display all percentage and  average percentage of students. \n",
    "\n",
    "students = int(input(\"Please Enter the number of students : \"))\n",
    "Average_percentage = 0\n",
    "\n",
    "for i in range(1,students+1):\n",
    "    sub1 = int(input(\"Please Enter the marks of subject 1 : \"))\n",
    "    sub2 = int(input(\"Please Enter the marks of subject 2 : \"))\n",
    "    sub3 = int(input(\"Please Enter the marks of subject 3 : \"))\n",
    "    sub4 = int(input(\"Please Enter the marks of subject 4 : \"))\n",
    "    sub5 = int(input(\"Please Enter the marks of subject 5 : \"))\n",
    "    total = sub1 + sub2 + sub3 + sub4 + sub5\n",
    "    percentage = total/5\n",
    "    Average_percentage = Average_percentage + percentage\n",
    "    print(\"Percentage of student\",i,\"is\",percentage)\n",
    "\n",
    "print(\"Average Percentage of students is\",Average_percentage/students)"
   ]
  },
  {
   "cell_type": "code",
   "execution_count": null,
   "metadata": {},
   "outputs": [],
   "source": [
    " #Accept no. of passengers from user and per ticket cost. Then accept age of each  passenger and then calculate total amount to ticket to travel for all of them based on  following condition : a. Children below 12 = 30% discount  b. Senior citizen (above 59) = 50% discount  c. Others need to pay full. \n",
    "\n",
    "Passengers=int(input(\"Please Enter the number of Passengers : \"))\n",
    "ticket_price = float(input(\"Enter the ticket price : \"))\n",
    "\n",
    "total_amount = 0\n",
    "\n",
    "for i in range(1 , Passengers+1):\n",
    "    age = int(input(\"Please Enter the Age : \"))\n",
    "    if age <= 12:\n",
    "        total_amount += ticket_price * 0.70 \n",
    "    elif age >= 59:\n",
    "        total_amount += ticket_price * 0.50  \n",
    "    else:\n",
    "        total_amount += ticket_price \n",
    "        \n",
    "\n",
    "print(\"The Total Price is of the Ticket is  \",total_amount)\n"
   ]
  },
  {
   "cell_type": "code",
   "execution_count": null,
   "metadata": {},
   "outputs": [],
   "source": [
    "#4 Write a program to check if given number is Armstrong number or not. \n",
    "\n",
    "number1 = int(input(\"Please Enter the Number : \"))\n",
    "\n",
    "sum = 0\n",
    "\n",
    "temp = number1\n",
    "\n",
    "while(temp > 0):\n",
    "    digit = temp % 10\n",
    "    sum = sum + digit ** 3\n",
    "    temp = temp // 10\n",
    "\n",
    "if(number1 == sum):\n",
    "    print(number1,\"is an Armstrong number\")\n",
    "else:\n",
    "    print(number1,\"is not an Armstrong number\")"
   ]
  },
  {
   "cell_type": "code",
   "execution_count": 1,
   "metadata": {},
   "outputs": [
    {
     "name": "stdout",
     "output_type": "stream",
     "text": [
      "2\n",
      "3\n",
      "5\n",
      "7\n",
      "11\n",
      "13\n",
      "17\n",
      "19\n",
      "23\n",
      "29\n",
      "31\n",
      "37\n",
      "41\n",
      "43\n",
      "47\n",
      "53\n",
      "59\n",
      "61\n",
      "67\n",
      "71\n",
      "73\n",
      "79\n",
      "83\n",
      "89\n",
      "97\n"
     ]
    }
   ],
   "source": [
    "#5 Write a program to print prime numbers between 1 to 100. \n",
    "\n",
    "for i in range(2,101):\n",
    "    for j in range(2,i):\n",
    "        if(i % j == 0):\n",
    "            break\n",
    "    else:\n",
    "        print(i)\n",
    "        "
   ]
  },
  {
   "cell_type": "code",
   "execution_count": null,
   "metadata": {},
   "outputs": [
    {
     "name": "stdout",
     "output_type": "stream",
     "text": [
      "2\n",
      "3\n",
      "5\n",
      "7\n",
      "There are No Prime Numbers Found\n"
     ]
    }
   ],
   "source": [
    "# Write a program to print first n prime numbers\n",
    "\n",
    "n = int(input(\"Please Enter the Number : \"))\n",
    "\n",
    "for i in range(2,n+1):\n",
    "    for j in range(2,i):\n",
    "        if(i % j == 0):\n",
    "            break\n",
    "    else:\n",
    "        print(i)"
   ]
  },
  {
   "cell_type": "code",
   "execution_count": null,
   "metadata": {},
   "outputs": [],
   "source": []
  }
 ],
 "metadata": {
  "kernelspec": {
   "display_name": "Python 3",
   "language": "python",
   "name": "python3"
  },
  "language_info": {
   "codemirror_mode": {
    "name": "ipython",
    "version": 3
   },
   "file_extension": ".py",
   "mimetype": "text/x-python",
   "name": "python",
   "nbconvert_exporter": "python",
   "pygments_lexer": "ipython3",
   "version": "3.11.1"
  }
 },
 "nbformat": 4,
 "nbformat_minor": 2
}
