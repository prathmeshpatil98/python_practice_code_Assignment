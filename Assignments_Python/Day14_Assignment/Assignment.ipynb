{
 "cells": [
  {
   "cell_type": "code",
   "execution_count": null,
   "metadata": {},
   "outputs": [],
   "source": [
    "# Create a class Student with following  \n",
    "\n",
    "class student:\n",
    "    \n",
    "    def __init__(self,StudentId,Name ,Age, Percentage):\n",
    "        self.StudentId = StudentId\n",
    "        self.Name = Name\n",
    "        self.Age = Age\n",
    "        self.Percentage = Percentage\n",
    "        \n",
    "    def display(self):\n",
    "        print(f\"Student ID : {self.StudentId}\")\n",
    "        print(f\"Name  : {self.Name}\")\n",
    "        print(f\" Age : {self.Age}\")\n",
    "        print(f\"Percentage ID : {self.Percentage}\")\n",
    "        \n",
    "    def Accept(self):\n",
    "        StudentId = int(input(\"Please Enter the Number : \"))\n",
    "        Name = int(input(\"Please Enter the Number : \"))\n",
    "        Age = int(input(\"Please Enter the Number : \"))\n",
    "        Percentage = int(input(\"Please Enter the Number : \"))\n",
    "        \n",
    "    "
   ]
  },
  {
   "cell_type": "code",
   "execution_count": null,
   "metadata": {},
   "outputs": [],
   "source": []
  }
 ],
 "metadata": {
  "kernelspec": {
   "display_name": "Python 3",
   "language": "python",
   "name": "python3"
  },
  "language_info": {
   "codemirror_mode": {
    "name": "ipython",
    "version": 3
   },
   "file_extension": ".py",
   "mimetype": "text/x-python",
   "name": "python",
   "nbconvert_exporter": "python",
   "pygments_lexer": "ipython3",
   "version": "3.11.1"
  }
 },
 "nbformat": 4,
 "nbformat_minor": 2
}
