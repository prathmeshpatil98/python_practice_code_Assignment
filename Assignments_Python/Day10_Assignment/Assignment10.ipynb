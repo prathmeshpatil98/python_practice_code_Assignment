{
 "cells": [
  {
   "cell_type": "code",
   "execution_count": 11,
   "metadata": {},
   "outputs": [
    {
     "name": "stdout",
     "output_type": "stream",
     "text": [
      "The sum of All element is 550\n"
     ]
    }
   ],
   "source": [
    "#1 Write a program to find sum of all elements of list\n",
    "\n",
    "list = [10,20,30,40,50,60,70,80,90,100]\n",
    "\n",
    "sum = 0\n",
    "for i in list:\n",
    "    sum += i\n",
    "print(f\"The sum of All element is {sum}.\")\n"
   ]
  },
  {
   "cell_type": "code",
   "execution_count": 22,
   "metadata": {},
   "outputs": [
    {
     "name": "stdout",
     "output_type": "stream",
     "text": [
      "This is the Maximum :-  100.\n",
      "This is Minimum :- 10.\n"
     ]
    }
   ],
   "source": [
    "#2 Write a program to find maximum and minimum element in a list.\n",
    "\n",
    "\n",
    "data = [10,20,30,40,50,60,70,80,90,100]\n",
    "\n",
    "maximum = data[0]\n",
    "minimum = data[0]\n",
    "\n",
    "for i in data:\n",
    "    if i > maximum:\n",
    "        maximum = i\n",
    "    elif i < minimum:\n",
    "        minimum = i \n",
    "    \n",
    "print(f\"This is the Maximum :-  {maximum}.\")\n",
    "print(f\"This is Minimum :- {minimum}.\")"
   ]
  },
  {
   "cell_type": "code",
   "execution_count": 34,
   "metadata": {},
   "outputs": [
    {
     "name": "stdout",
     "output_type": "stream",
     "text": [
      "Second Maximun =  90\n"
     ]
    }
   ],
   "source": [
    "#3 Write a program to find the second largest element in the list.\n",
    "\n",
    "data1 = [10,20,30,40,50,60,70,80,90,100]\n",
    "\n",
    "maximum = data1[0]\n",
    "second_maximum = data1[0]\n",
    "\n",
    "for i in data1:\n",
    "    if i > maximum:\n",
    "        second_maximum = maximum\n",
    "        maximum = i\n",
    "        \n",
    "print(\"Second Maximun = \" , second_maximum)"
   ]
  },
  {
   "cell_type": "code",
   "execution_count": 2,
   "metadata": {},
   "outputs": [
    {
     "name": "stdout",
     "output_type": "stream",
     "text": [
      "[100, 90, 80, 70, 60, 50, 40, 30, 20, 10]\n"
     ]
    }
   ],
   "source": [
    "#4 Write a program to reverse the list without using build in function \n",
    "\n",
    "data3 = [10,20,30,40,50,60,70,80,90,100]\n",
    "\n",
    "reversed_lIst = []\n",
    "\n",
    "for i in range(len(data3) - 1, -1, -1): \n",
    "    reversed_lIst.append(data3[i])\n",
    "    \n",
    "print(reversed_lIst)\n"
   ]
  },
  {
   "cell_type": "code",
   "execution_count": 3,
   "metadata": {},
   "outputs": [
    {
     "name": "stdout",
     "output_type": "stream",
     "text": [
      "Original list: [10, 20, 30, 40, 50, 60, 70, 80, 90, 100]\n",
      "Reversed list: [100, 90, 80, 70, 60, 50, 40, 30, 20, 10]\n"
     ]
    }
   ],
   "source": [
    "reversed_list = [0] * len(data3) \n",
    "\n",
    "for i in range(len(data3)):\n",
    "    reversed_list[len(data3) - 1 - i] = data3[i] \n",
    "\n",
    "\n",
    "print(\"Original list:\", data3)\n",
    "print(\"Reversed list:\", reversed_list)\n"
   ]
  },
  {
   "cell_type": "code",
   "execution_count": 5,
   "metadata": {},
   "outputs": [
    {
     "name": "stdout",
     "output_type": "stream",
     "text": [
      "This Number 45 is not present in the list.\n"
     ]
    }
   ],
   "source": [
    "#5 Accept a number from user and check if this element is present in the list or not. Also tell how many times it is present in the list.\n",
    "\n",
    "number = int(input(\"Please Enter the Number :\"))\n",
    "\n",
    "list = [ 10,20,30,40,50,20,70,80,90,100]\n",
    "\n",
    "count = 0\n",
    "\n",
    "for x in list:\n",
    "    if x == number:\n",
    "        count += 1\n",
    "    \n",
    "if count > 0:\n",
    "    print(f\"The Number {number} is present {count} times in the list.\")\n",
    "else:\n",
    "    print(f\"This Number {number} is not present in the list.\")\n",
    "        \n",
    "     \n",
    "\n",
    "\n",
    "\n"
   ]
  },
  {
   "cell_type": "code",
   "execution_count": 6,
   "metadata": {},
   "outputs": [
    {
     "name": "stdout",
     "output_type": "stream",
     "text": [
      "Original List :-  [10, 20, 10, 30, 50, 10, 20, 60, 70, 50, 80, 90, 100]\n",
      "Final List :-  [30, 10, 20, 60, 70, 50, 80, 90, 100]\n"
     ]
    }
   ],
   "source": [
    "#6 Write a program to remove duplicates from the listw ithout build in function.\n",
    "\n",
    "data6 = [ 10,20,10,30,50,10,20,60,70,50,80,90,100]\n",
    "\n",
    "print(\"Original List :- \", data6)\n",
    "\n",
    "for i in data6:\n",
    "    if data6.count(i) > 1:\n",
    "        data6.remove(i)\n",
    "        \n",
    "print(\"Final List :- \", data6)  \n",
    "\n",
    "\n"
   ]
  },
  {
   "cell_type": "code",
   "execution_count": 8,
   "metadata": {},
   "outputs": [
    {
     "name": "stdout",
     "output_type": "stream",
     "text": [
      "[1000, 8000, 27000, 64000, 125000, 216000, 343000, 512000, 729000, 1000000]\n"
     ]
    }
   ],
   "source": [
    "#7 Write a program to create a new list from existing list which contains cube of each number of list. \n",
    "\n",
    "\n",
    "list1 = [10,20,30,40,50,60,70,80,90,100]\n",
    "\n",
    "cube_list = []\n",
    "\n",
    "for i in list1:\n",
    "    cube_list += [i**3]\n",
    "    \n",
    "print(cube_list)\n",
    "\n"
   ]
  },
  {
   "cell_type": "code",
   "execution_count": null,
   "metadata": {},
   "outputs": [],
   "source": [
    "#8 Write a program to create a duplicate of an existing list. It should not point to same list.\n",
    "\n",
    "list2 = [10,20,30,40,50,60,70,80,90,100]\n",
    "\n",
    "duplicate_list = list2.copy()\n",
    "\n",
    "print(duplicate_list)"
   ]
  },
  {
   "cell_type": "code",
   "execution_count": 9,
   "metadata": {},
   "outputs": [
    {
     "name": "stdout",
     "output_type": "stream",
     "text": [
      "[10, 20, 30, 40, 50, 60, 70, 80, 90, 100]\n"
     ]
    }
   ],
   "source": [
    "#Same as 8 \n",
    "\n",
    "duplicate_list = []\n",
    "\n",
    "for item in list2:  # Iterate through the original list\n",
    "    duplicate_list += [item]\n",
    "    \n",
    "print(duplicate_list)"
   ]
  },
  {
   "cell_type": "code",
   "execution_count": 11,
   "metadata": {},
   "outputs": [
    {
     "name": "stdout",
     "output_type": "stream",
     "text": [
      "[2, 4, 6, 8, 10, 12, 14, 16]\n",
      "[1, 3, 5, 7, 9, 11, 13, 15]\n"
     ]
    }
   ],
   "source": [
    "#9 Write a program of having n number of elements in the list and find out even and odd elements in that list and then create two separate lists which will have even elements and other will have odd elements.\n",
    "\n",
    "data = [1,2,3,4,5,6,7,8,9,10,11,12,13,14,15,16]\n",
    "\n",
    "even_list = []\n",
    "odd_list = []\n",
    "\n",
    "for i in data:\n",
    "    if i % 2 == 0:\n",
    "        even_list += [i]\n",
    "    else:\n",
    "        odd_list += [i]\n",
    "        \n",
    "print(even_list)\n",
    "print(odd_list)"
   ]
  },
  {
   "cell_type": "code",
   "execution_count": 34,
   "metadata": {},
   "outputs": [
    {
     "name": "stdout",
     "output_type": "stream",
     "text": [
      "[2, 3, 4, 5, 6, 7, 8, 9, 10, 11, 12, 13, 14, 15, 16]\n"
     ]
    }
   ],
   "source": [
    "#10 Write a program to remove all occurrences of a given element in the list. \n",
    "\n",
    "data = [1,2,3,4,5,6,7,8,9,10,11,12,13,14,15,16]\n",
    "\n",
    "element = int(input(\"Please Enter the Number : \"))\n",
    "\n",
    "for i in data:\n",
    "    if i == element:\n",
    "        data.remove(i)\n",
    "    \n",
    "        \n",
    "print(data)"
   ]
  },
  {
   "cell_type": "code",
   "execution_count": 33,
   "metadata": {},
   "outputs": [
    {
     "name": "stdout",
     "output_type": "stream",
     "text": [
      "Element is not present in the list\n"
     ]
    }
   ],
   "source": [
    "\n",
    "data = [1,2,3,4,5,6,7,8,9,10,11,12,13,14,15,16]\n",
    "\n",
    "element = int(input(\"Please Enter the Number : \"))\n",
    "\n",
    "\n",
    "if element in data:\n",
    "    data = [i for i in data if i != element]\n",
    "    print(\"The element is \", element, \"and the updated list is \", data)\n",
    "else:\n",
    "    print(\"Element is not present in the list\")"
   ]
  },
  {
   "cell_type": "code",
   "execution_count": 36,
   "metadata": {},
   "outputs": [
    {
     "name": "stdout",
     "output_type": "stream",
     "text": [
      "[1, 2, 3, 4, 6, 7, 8, 9]\n"
     ]
    }
   ],
   "source": [
    "data = [1, 2, 3, 4, 5, 6, 7, 8, 9]\n",
    "element = 5\n",
    "\n",
    "data = [i for i in data if i != element]\n",
    "\n",
    "print(data)\n"
   ]
  },
  {
   "cell_type": "code",
   "execution_count": 41,
   "metadata": {},
   "outputs": [
    {
     "name": "stdout",
     "output_type": "stream",
     "text": [
      "[10, 20, 50, 60, 70, 90, 100]\n"
     ]
    }
   ],
   "source": [
    "#11 Write a program to print all numbers which are divisible by m and n in the list.\n",
    "\n",
    "from hmac import new\n",
    "\n",
    "\n",
    "list = [ 10,20,33,42,50,60,70,86,90,100]\n",
    "\n",
    "m = 5\n",
    "n = 10\n",
    "\n",
    "new_list = []\n",
    "\n",
    "for i in list:\n",
    "    if i % m == 0 and i % n == 0:\n",
    "        new_list += [i]\n",
    "        \n",
    "print(new_list)\n",
    "\n"
   ]
  },
  {
   "cell_type": "code",
   "execution_count": 42,
   "metadata": {},
   "outputs": [
    {
     "name": "stdout",
     "output_type": "stream",
     "text": [
      "Original List :-  [4, 5, 6]\n",
      "Square List :-  [16, 25, 36]\n",
      "Cube List :-  [64, 125, 216]\n"
     ]
    }
   ],
   "source": [
    "#12  . Write a program to create three lists of numbers, their squares and cubes.\n",
    "\n",
    "\n",
    "num = int(input(\"How many elements you want in list : \"))\n",
    "\n",
    "list = []\n",
    "\n",
    "for i in range(num):\n",
    "    list.append(int(input(\"Enter the number : \")))\n",
    "\n",
    "square_list = [i**2 for i in list]\n",
    "\n",
    "cube_list = [i**3 for i in list]\n",
    "\n",
    "print(\"Original List :- \", list)\n",
    "print(\"Square List :- \", square_list)\n",
    "print(\"Cube List :- \", cube_list)"
   ]
  },
  {
   "cell_type": "code",
   "execution_count": 49,
   "metadata": {},
   "outputs": [
    {
     "name": "stdout",
     "output_type": "stream",
     "text": [
      "[15, 33, 45, 73]\n"
     ]
    }
   ],
   "source": [
    "#13 Write a program to print list after removing even numbers\n",
    "\n",
    "\n",
    "list13 = [ 10,15,20,33,42,50,45,73,86,90,100]\n",
    "\n",
    "result_list = []\n",
    "\n",
    "for i in list13:\n",
    "    if i % 2 != 0:\n",
    "        result_list += [i]\n",
    "        \n",
    "print(result_list)"
   ]
  },
  {
   "cell_type": "code",
   "execution_count": null,
   "metadata": {},
   "outputs": [],
   "source": []
  },
  {
   "cell_type": "code",
   "execution_count": null,
   "metadata": {},
   "outputs": [],
   "source": []
  }
 ],
 "metadata": {
  "kernelspec": {
   "display_name": "Python 3",
   "language": "python",
   "name": "python3"
  },
  "language_info": {
   "codemirror_mode": {
    "name": "ipython",
    "version": 3
   },
   "file_extension": ".py",
   "mimetype": "text/x-python",
   "name": "python",
   "nbconvert_exporter": "python",
   "pygments_lexer": "ipython3",
   "version": "3.11.1"
  }
 },
 "nbformat": 4,
 "nbformat_minor": 2
}
