{
 "cells": [
  {
   "cell_type": "code",
   "execution_count": null,
   "metadata": {},
   "outputs": [],
   "source": [
    "#Python Program to Replace all Occurrences of ‘a’ with $ in a String.\n",
    "\n",
    "data = (\" #aa# Firstbit Solution #aa#\")\n",
    "\n",
    "data2 = data.replace(\"a\", \"$\")\n",
    "\n",
    "data2\n"
   ]
  },
  {
   "cell_type": "code",
   "execution_count": null,
   "metadata": {},
   "outputs": [],
   "source": [
    "# write a programme Python Program to Remove the nth Index Character from a Non-Empty String.\n",
    "\n",
    "\n",
    "def remove_nth(data3 , num):\n",
    "    if num >= 0 and num >= len(data3):\n",
    "        return \"Invalid index\"\n",
    "    return data3[:num] + data3[num+1:]\n",
    "    \n",
    "data3 =(\"Firstbit Solution.\")\n",
    "num = int(input(\"Please Enter the Number :\"))\n",
    "result = remove_nth(data3, num)\n",
    "\n",
    "print(result)"
   ]
  },
  {
   "cell_type": "code",
   "execution_count": 4,
   "metadata": {},
   "outputs": [
    {
     "name": "stdout",
     "output_type": "stream",
     "text": [
      "The strings are anagrams.\n"
     ]
    }
   ],
   "source": [
    "#Question3 write a Python Program to Detect if Two Strings are Anagrams.\n",
    "\n",
    "str1 =str(input(\"Please Enter the String : \"))\n",
    "str2 =str(input('Please Enter the String :'))\n",
    "\n",
    "def check_anagrams(str1,str2):\n",
    "\n",
    "    str1 = str1.replace(\" \", \"\").lower()\n",
    "    str2 = str2.replace(\" \", \"\").lower()\n",
    "    return sorted(str1) == sorted(str2)\n",
    "\n",
    "\n",
    "if check_anagrams(str1, str2):\n",
    "    print(\"The strings are anagrams.\")\n",
    "else:\n",
    "    print(\"The strings are not anagrams.\")"
   ]
  },
  {
   "cell_type": "code",
   "execution_count": null,
   "metadata": {},
   "outputs": [],
   "source": [
    "#Questin 4 Python Program to Form a New String where the First Character and the Last Character have been Exchanged.\n",
    "\n",
    "string1 = str(input(\"Please Enter the String : \"))\n",
    "\n",
    "def exchanged_first_last(s):\n",
    "    if len(s) < 2:\n",
    "        return s  \n",
    "    return s[-1] + s[1:-1] + s[0]\n",
    "\n",
    "\n",
    "print(exchanged_first_last(string1))\n"
   ]
  },
  {
   "cell_type": "code",
   "execution_count": null,
   "metadata": {},
   "outputs": [],
   "source": [
    "#question 5 Python Program to Count the Number of Vowels in a String \n",
    "\n",
    "string2 = str(input(\"Please Enter the String : \"))\n",
    "\n",
    "\n",
    "def check_vovels(s):\n",
    "    vovels = 'AEIOUaeiou'\n",
    "    count = 0\n",
    "    \n",
    "    for i in string2:\n",
    "        if i in vovels:\n",
    "            count += 1\n",
    "    return count\n",
    "        \n",
    "        \n",
    "print(check_vovels(string2))"
   ]
  },
  {
   "cell_type": "code",
   "execution_count": null,
   "metadata": {},
   "outputs": [],
   "source": [
    "#Question 6 Python Program to Take in a String and Replace Every Blank Space with Hyphen.\n",
    "\n",
    "str3 = (input(\"Please Enter the String : \"))\n",
    "\n",
    "new_str3 = str3.replace(\" \",\"-\")\n",
    "\n",
    "new_str3"
   ]
  },
  {
   "cell_type": "code",
   "execution_count": null,
   "metadata": {},
   "outputs": [],
   "source": [
    "#question 7 Python Program to Calculate the Length of a String Without Using a Library Function\n",
    "\n",
    "string5 = (input(\"Please Enter the String : \"))\n",
    "\n",
    "\n",
    "def string_length(s):\n",
    "    count = 0\n",
    "    while s[count:]:\n",
    "        count += 1\n",
    "    return count\n",
    "\n",
    "print(f\"The string is : {string5}.\")\n",
    "print(f\"The length is : {string_length(string5)} .\")"
   ]
  },
  {
   "cell_type": "code",
   "execution_count": null,
   "metadata": {},
   "outputs": [],
   "source": [
    "#Question 8  Python Program to Remove the Characters of Odd Index Values in a String.\n",
    "\n",
    "def remove_nth(data3 ):\n",
    "    return data3[1::2]\n",
    "    \n",
    "data3 =(\"Firstbit Solution.\")\n",
    "result = remove_nth(data3)\n",
    "\n",
    "print(result)"
   ]
  },
  {
   "cell_type": "code",
   "execution_count": null,
   "metadata": {},
   "outputs": [],
   "source": []
  },
  {
   "cell_type": "code",
   "execution_count": null,
   "metadata": {},
   "outputs": [],
   "source": []
  },
  {
   "cell_type": "code",
   "execution_count": null,
   "metadata": {},
   "outputs": [],
   "source": []
  },
  {
   "cell_type": "code",
   "execution_count": null,
   "metadata": {},
   "outputs": [],
   "source": []
  },
  {
   "cell_type": "code",
   "execution_count": null,
   "metadata": {},
   "outputs": [],
   "source": []
  },
  {
   "cell_type": "code",
   "execution_count": null,
   "metadata": {},
   "outputs": [],
   "source": [
    "#Question3  Python Program to Detect if Two Strings are Anagrams \n",
    "\n",
    "str1 =(input(\"Please Enter the String : \"))\n",
    "str2 =(input('Please Enter the String :'))\n",
    "\n",
    "count1= 0\n",
    "count2 = 0\n",
    "for i in str1:\n",
    "    count1 = count1 + i\n",
    "    \n",
    "for j in str2:\n",
    "    count2  = count1 + j\n",
    "\n",
    "print(count1)"
   ]
  },
  {
   "cell_type": "code",
   "execution_count": null,
   "metadata": {},
   "outputs": [],
   "source": []
  }
 ],
 "metadata": {
  "kernelspec": {
   "display_name": "Python 3",
   "language": "python",
   "name": "python3"
  },
  "language_info": {
   "codemirror_mode": {
    "name": "ipython",
    "version": 3
   },
   "file_extension": ".py",
   "mimetype": "text/x-python",
   "name": "python",
   "nbconvert_exporter": "python",
   "pygments_lexer": "ipython3",
   "version": "3.11.1"
  }
 },
 "nbformat": 4,
 "nbformat_minor": 2
}
