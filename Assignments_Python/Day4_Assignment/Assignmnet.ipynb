{
 "cells": [
  {
   "cell_type": "code",
   "execution_count": 2,
   "metadata": {},
   "outputs": [
    {
     "name": "stdout",
     "output_type": "stream",
     "text": [
      "2\n",
      "4\n"
     ]
    }
   ],
   "source": [
    "#WAP to print all even numbers until n.\n",
    "\n",
    "n = int(input(\"Please Enter the NUmber : \"))    \n",
    "\n",
    "for i in range(1,n+1):\n",
    "    if(i%2==0):\n",
    "        print(i)\n",
    "\n"
   ]
  },
  {
   "cell_type": "code",
   "execution_count": null,
   "metadata": {},
   "outputs": [],
   "source": [
    "#WAP to print all odd numbers until n.\n",
    "\n",
    "n = int(input(\"Please Enter the NUmber : \"))    \n",
    "\n",
    "for i in range(1,n+1):\n",
    "    if(i%2!=0):\n",
    "        print(i)"
   ]
  },
  {
   "cell_type": "code",
   "execution_count": null,
   "metadata": {},
   "outputs": [],
   "source": [
    "#3 WAP to print sum of series upto n. \n",
    "\n",
    "n = int(input(\"Please Enter the NUmber : \"))    \n",
    "\n",
    "sum = 0\n",
    "\n",
    "for i in range(1,n+1):\n",
    "    sum = sum + i\n",
    "\n",
    "print(sum)"
   ]
  },
  {
   "cell_type": "code",
   "execution_count": null,
   "metadata": {},
   "outputs": [],
   "source": [
    "#4 WAP to print factorial of a number .\n",
    "\n",
    "n = int(input(\"Please Enter the NUmber : \"))\n",
    "\n",
    "factorial = 1\n",
    "\n",
    "for i in range(1,n+1):\n",
    "    factorial = factorial * i\n",
    "\n",
    "print(factorial)"
   ]
  },
  {
   "cell_type": "code",
   "execution_count": null,
   "metadata": {},
   "outputs": [],
   "source": [
    "#5WAP to print Fibonacci series upto n.\n",
    "\n",
    "n = int(input(\"Please Enter the NUmber : \"))\n",
    "\n",
    "a = 0\n",
    "b = 1   \n",
    "\n",
    "for i in range(1,n+1):\n",
    "    print(a)\n",
    "    c = a + b\n",
    "    a = b\n",
    "    b = c\n",
    "    \n"
   ]
  },
  {
   "cell_type": "code",
   "execution_count": null,
   "metadata": {},
   "outputs": [],
   "source": [
    "#6 WAP to check if a given number is prime number or not.\n",
    "\n",
    "number = int(input(\"Please Enter the Number : \"))\n",
    "\n",
    "for i in range(2,number):\n",
    "    if number % i == 0:\n",
    "        print(\"The Number is Not Prime\")\n",
    "        break\n",
    "else:\n",
    "    print(\"The Number is Prime\")\n",
    "\n"
   ]
  },
  {
   "cell_type": "code",
   "execution_count": 1,
   "metadata": {},
   "outputs": [
    {
     "name": "stdout",
     "output_type": "stream",
     "text": [
      "1 5 7 "
     ]
    }
   ],
   "source": [
    "#7 WAP to print all integers upto n that aren’t divisible by 2 and 3.\n",
    "\n",
    "n = int(input(\"Please Enthe the Number : \"))\n",
    "\n",
    "for i in range(1, n + 1):\n",
    "    if i % 2 != 0 and i % 3 != 0:\n",
    "        print(i, end=\" \")\n",
    "\n"
   ]
  },
  {
   "cell_type": "code",
   "execution_count": 6,
   "metadata": {},
   "outputs": [
    {
     "name": "stdout",
     "output_type": "stream",
     "text": [
      "No Number is divisible by 7 and 5 in the Range\n"
     ]
    }
   ],
   "source": [
    "#8 WAP to find which numbers are divisible by 7 and multiple of 5 in a given range. \n",
    "\n",
    "start = int(input(\"Please Enter the Start of the Range : \"))\n",
    "end = int(input(\"Please Enter the End of the Range : \"))\n",
    "\n",
    "for i in range(start, end + 1):\n",
    "    if i % 7 == 0 and i % 5 == 0:\n",
    "        print(i, end=\" \")\n",
    "\n",
    "else: \n",
    "    print(\"No Number is divisible by 7 and 5 in the Range\")    \n",
    "        "
   ]
  },
  {
   "cell_type": "code",
   "execution_count": 10,
   "metadata": {},
   "outputs": [
    {
     "name": "stdout",
     "output_type": "stream",
     "text": [
      "10 20 30 40 50  Are the Numbers in the range 4 to 50 divisible by 10:\n"
     ]
    }
   ],
   "source": [
    "#9 WAP to print all numbers in a range divisible by a given number\n",
    "\n",
    "start = int(input(\"Please Enter the Start of the Range : \"))\n",
    "end = int(input(\"Please Enter the End of the Range : \"))\n",
    "divisor = int(input(\"Please Enter the Divisor : \"))\n",
    "\n",
    "for i in range(start, end + 1):\n",
    "    if i % divisor == 0:\n",
    "        print(i, end=\" \")\n",
    "\n",
    "print(f\"Are the Numbers in the range {start} to {end} divisible by {divisor}\")"
   ]
  },
  {
   "cell_type": "code",
   "execution_count": null,
   "metadata": {},
   "outputs": [],
   "source": []
  },
  {
   "cell_type": "code",
   "execution_count": 1,
   "metadata": {},
   "outputs": [
    {
     "name": "stdout",
     "output_type": "stream",
     "text": [
      "25 is not perfect number.\n"
     ]
    }
   ],
   "source": [
    "#Q10. WAP to check if given number is Perfect Number. \n",
    "                             \n",
    "                             \n",
    "num = int(input(\"Enter the number:\")) \n",
    "res = 0 \n",
    " \n",
    "for i in range(1,num//2+1): \n",
    "    if num % i == 0: \n",
    "        res = res+i \n",
    "         \n",
    "if res == num: \n",
    "    print(num,\"is perfect number.\") \n",
    "else: \n",
    "    print(num,\"is not perfect number.\")"
   ]
  },
  {
   "cell_type": "code",
   "execution_count": 2,
   "metadata": {},
   "outputs": [
    {
     "name": "stdout",
     "output_type": "stream",
     "text": [
      "125 is not strong number.\n"
     ]
    }
   ],
   "source": [
    "#Q11.  WAP to check if given number Strong Number.(145) \n",
    "                         \n",
    "                         \n",
    "num = int(input(\"Enter your number:\")) \n",
    "a = num \n",
    "res = 0 \n",
    " \n",
    "while num>0: \n",
    "    b = num % 10 \n",
    "    fact = 1 \n",
    "     \n",
    "    for i in range(1,b+1): \n",
    "        fact = fact*i \n",
    "     \n",
    "    res = res + fact \n",
    "    num //= 10 \n",
    "     \n",
    "if res == a: \n",
    "    print(a,\"is strong number.\") \n",
    "else: \n",
    "    print(a,\"is not strong number.\")"
   ]
  },
  {
   "cell_type": "code",
   "execution_count": 5,
   "metadata": {},
   "outputs": [
    {
     "name": "stdout",
     "output_type": "stream",
     "text": [
      "153 is armstrong number.\n"
     ]
    }
   ],
   "source": [
    "#Q12. WAP to print Armstrong number within a given range(153,9474) \n",
    "                             \n",
    "                             \n",
    "num = int(input(\"Enter your number:\")) \n",
    "b = num \n",
    "a = num \n",
    "count = 0 \n",
    "res = 0 \n",
    " \n",
    "while a>0: \n",
    "    count += 1 \n",
    "    a = a//10 \n",
    "     \n",
    "while num>0: \n",
    "    #num %= 10 \n",
    "    res = res + ((num%10)**count) \n",
    "    num = num//10 \n",
    "     \n",
    "if res==b: \n",
    "    print(b,\"is armstrong number.\") \n",
    "else: \n",
    "    print(b,\"is not armstrong number.\") "
   ]
  },
  {
   "cell_type": "code",
   "execution_count": null,
   "metadata": {},
   "outputs": [],
   "source": []
  }
 ],
 "metadata": {
  "kernelspec": {
   "display_name": "Python 3",
   "language": "python",
   "name": "python3"
  },
  "language_info": {
   "codemirror_mode": {
    "name": "ipython",
    "version": 3
   },
   "file_extension": ".py",
   "mimetype": "text/x-python",
   "name": "python",
   "nbconvert_exporter": "python",
   "pygments_lexer": "ipython3",
   "version": "3.11.1"
  }
 },
 "nbformat": 4,
 "nbformat_minor": 2
}
