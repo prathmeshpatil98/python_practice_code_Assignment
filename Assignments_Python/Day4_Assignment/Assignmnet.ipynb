{
 "cells": [
  {
   "cell_type": "code",
   "execution_count": 2,
   "metadata": {},
   "outputs": [
    {
     "name": "stdout",
     "output_type": "stream",
     "text": [
      "2\n",
      "4\n"
     ]
    }
   ],
   "source": [
    "#WAP to print all even numbers until n.\n",
    "\n",
    "n = int(input(\"Please Enter the NUmber : \"))    \n",
    "\n",
    "for i in range(1,n+1):\n",
    "    if(i%2==0):\n",
    "        print(i)\n",
    "\n"
   ]
  },
  {
   "cell_type": "code",
   "execution_count": null,
   "metadata": {},
   "outputs": [],
   "source": [
    "#WAP to print all odd numbers until n.\n",
    "\n",
    "n = int(input(\"Please Enter the NUmber : \"))    \n",
    "\n",
    "for i in range(1,n+1):\n",
    "    if(i%2!=0):\n",
    "        print(i)"
   ]
  },
  {
   "cell_type": "code",
   "execution_count": null,
   "metadata": {},
   "outputs": [],
   "source": [
    "#3 WAP to print sum of series upto n. \n",
    "\n",
    "n = int(input(\"Please Enter the NUmber : \"))    \n",
    "\n",
    "sum = 0\n",
    "\n",
    "for i in range(1,n+1):\n",
    "    sum = sum + i\n",
    "\n",
    "print(sum)"
   ]
  },
  {
   "cell_type": "code",
   "execution_count": null,
   "metadata": {},
   "outputs": [],
   "source": [
    "#4 WAP to print factorial of a number .\n",
    "\n",
    "n = int(input(\"Please Enter the NUmber : \"))\n",
    "\n",
    "factorial = 1\n",
    "\n",
    "for i in range(1,n+1):\n",
    "    factorial = factorial * i\n",
    "\n",
    "print(factorial)"
   ]
  },
  {
   "cell_type": "code",
   "execution_count": null,
   "metadata": {},
   "outputs": [],
   "source": [
    "#5WAP to print Fibonacci series upto n.\n",
    "\n",
    "n = int(input(\"Please Enter the NUmber : \"))\n",
    "\n",
    "a = 0\n",
    "b = 1   \n",
    "\n",
    "for i in range(1,n+1):\n",
    "    print(a)\n",
    "    c = a + b\n",
    "    a = b\n",
    "    b = c\n",
    "    \n"
   ]
  },
  {
   "cell_type": "code",
   "execution_count": null,
   "metadata": {},
   "outputs": [],
   "source": [
    "#6 WAP to check if a given number is prime number or not.\n",
    "\n",
    "number = int(input(\"Please Enter the Number : \"))\n",
    "\n",
    "for i in range(2,number):\n",
    "    if number % i == 0:\n",
    "        print(\"The Number is Not Prime\")\n",
    "        break\n",
    "else:\n",
    "    print(\"The Number is Prime\")\n",
    "\n"
   ]
  },
  {
   "cell_type": "code",
   "execution_count": null,
   "metadata": {},
   "outputs": [],
   "source": [
    "#7 WAP to print all integers upto n that aren’t divisible by 2 and 3.\n",
    "\n",
    "n = int(input(\"Please Enthe the Number : \"))\n",
    "\n",
    "for i in range(1, n + 1):\n",
    "    if i % 2 != 0 and i % 3 != 0:\n",
    "        print(i, end=\" \")\n",
    "\n"
   ]
  },
  {
   "cell_type": "code",
   "execution_count": 6,
   "metadata": {},
   "outputs": [
    {
     "name": "stdout",
     "output_type": "stream",
     "text": [
      "No Number is divisible by 7 and 5 in the Range\n"
     ]
    }
   ],
   "source": [
    "#8 WAP to find which numbers are divisible by 7 and multiple of 5 in a given range. \n",
    "\n",
    "start = int(input(\"Please Enter the Start of the Range : \"))\n",
    "end = int(input(\"Please Enter the End of the Range : \"))\n",
    "\n",
    "for i in range(start, end + 1):\n",
    "    if i % 7 == 0 and i % 5 == 0:\n",
    "        print(i, end=\" \")\n",
    "\n",
    "else: \n",
    "    print(\"No Number is divisible by 7 and 5 in the Range\")    \n",
    "        "
   ]
  },
  {
   "cell_type": "code",
   "execution_count": 10,
   "metadata": {},
   "outputs": [
    {
     "name": "stdout",
     "output_type": "stream",
     "text": [
      "10 20 30 40 50  Are the Numbers in the range 4 to 50 divisible by 10:\n"
     ]
    }
   ],
   "source": [
    "#9 WAP to print all numbers in a range divisible by a given number\n",
    "\n",
    "start = int(input(\"Please Enter the Start of the Range : \"))\n",
    "end = int(input(\"Please Enter the End of the Range : \"))\n",
    "divisor = int(input(\"Please Enter the Divisor : \"))\n",
    "\n",
    "for i in range(start, end + 1):\n",
    "    if i % divisor == 0:\n",
    "        print(i, end=\" \")\n",
    "\n",
    "print(f\"Are the Numbers in the range {start} to {end} divisible by {divisor}\")"
   ]
  },
  {
   "cell_type": "code",
   "execution_count": 9,
   "metadata": {},
   "outputs": [
    {
     "name": "stdout",
     "output_type": "stream",
     "text": [
      "Numbers in the range 1 to 50 divisible by 20:\n",
      "20 40 \n"
     ]
    }
   ],
   "source": [
    "start = int(input(\"Enter the start of the range: \"))\n",
    "end = int(input(\"Enter the end of the range: \"))\n",
    "divisor = int(input(\"Enter the divisor: \"))\n",
    "\n",
    "print(f\"Numbers in the range {start} to {end} divisible by {divisor}:\")\n",
    "\n",
    "# Loop through the range and check divisibility\n",
    "for num in range(start, end + 1):\n",
    "    if num % divisor == 0:\n",
    "        print(num, end=\" \")\n",
    "\n",
    "print()"
   ]
  },
  {
   "cell_type": "code",
   "execution_count": null,
   "metadata": {},
   "outputs": [],
   "source": []
  }
 ],
 "metadata": {
  "kernelspec": {
   "display_name": "Python 3",
   "language": "python",
   "name": "python3"
  },
  "language_info": {
   "codemirror_mode": {
    "name": "ipython",
    "version": 3
   },
   "file_extension": ".py",
   "mimetype": "text/x-python",
   "name": "python",
   "nbconvert_exporter": "python",
   "pygments_lexer": "ipython3",
   "version": "3.11.1"
  }
 },
 "nbformat": 4,
 "nbformat_minor": 2
}
