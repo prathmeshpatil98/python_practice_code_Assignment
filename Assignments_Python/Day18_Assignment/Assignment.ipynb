{
 "cells": [
  {
   "cell_type": "code",
   "execution_count": null,
   "metadata": {},
   "outputs": [
    {
     "name": "stdout",
     "output_type": "stream",
     "text": [
      "Destructor is called\n",
      "Destructor is called\n",
      "8 + 11\n"
     ]
    }
   ],
   "source": [
    "# Question 1 , Create class complex number with data members as real and imag and add following methods:  a : constructor ,  b : Destructor and c: overload +,- Ooperator \n",
    "\n",
    "class complex:\n",
    "    \n",
    "    def __init__(self,real , imag):\n",
    "        self.real = real \n",
    "        self.imag = imag\n",
    "        \n",
    "        \n",
    "    def __add__(self,imag2):\n",
    "        self.real = self.real + imag2.real\n",
    "        self.imag = self.imag + imag2.imag\n",
    "        \n",
    "    def __sub__(self,imag2):\n",
    "        self.real = self.real - imag2.real\n",
    "        self.imag = self.imag - imag2.imag\n",
    "        \n",
    "    def show(self):\n",
    "        print(f\"{self.real} + {self.imag}\")\n",
    "        \n",
    "    def __del__(self):\n",
    "        print(\"Destructor is called\")\n",
    "\n",
    "\n",
    "a = complex(3,4)\n",
    "# a.show()\n",
    "        \n",
    "        \n",
    "b = complex(5,7)\n",
    "# b.show()\n",
    "      \n",
    "      \n",
    "a + b \n",
    "a.show()\n",
    "\n",
    "    \n",
    "        "
   ]
  },
  {
   "cell_type": "code",
   "execution_count": null,
   "metadata": {},
   "outputs": [],
   "source": [
    "\n",
    "# craete a class distance with data member as , kM ,M and CM and add following methods  a : constructor ,  b : Destructor and c: overload +,- Ooperator \n",
    "\n",
    "\n",
    "class Distance:\n",
    "    def __init__(self, km=0, m=0, cm=0):\n",
    "        self.km = km\n",
    "        self.m = m\n",
    "        self.cm = cm\n",
    "        self.normalize()\n",
    "\n",
    "    def normalize(self):\n",
    "        if self.cm >= 100:\n",
    "            self.m += self.cm // 100\n",
    "            self.cm %= 100\n",
    "        if self.m >= 1000:\n",
    "            self.km += self.m // 1000\n",
    "            self.m %= 1000\n",
    "\n",
    "    def __del__(self):\n",
    "        print(f\"Destructor called for Distance: {self.km} km {self.m} m {self.cm} cm\")\n",
    "\n",
    "    def __add__(self, other):\n",
    "        return Distance(self.km + other.km, self.m + other.m, self.cm + other.cm)\n",
    "\n",
    "    def __sub__(self, other):\n",
    "        total_cm1 = (self.km * 100000) + (self.m * 100) + self.cm\n",
    "        total_cm2 = (other.km * 100000) + (other.m * 100) + other.cm\n",
    "        diff = max(0, total_cm1 - total_cm2)\n",
    "        return Distance(0, 0, diff)\n",
    "\n",
    "    def display(self):\n",
    "        print(f\"{self.km} km {self.m} m {self.cm} cm\")\n",
    "\n",
    "if __name__ == \"__main__\":\n",
    "    d1 = Distance(2, 500, 50)\n",
    "    d2 = Distance(1, 600, 75)\n",
    "    d3 = d1 + d2\n",
    "    d4 = d1 - d2\n",
    "\n",
    "    print(\"Distance 1:\", end=' ')\n",
    "    d1.display()\n",
    "    print(\"Distance 2:\", end=' ')\n",
    "    d2.display()\n",
    "    print(\"Sum:\", end=' ')\n",
    "    d3.display()\n",
    "    print(\"Difference:\", end=' ')\n",
    "    d4.display()\n",
    "\n",
    "\n",
    "\n"
   ]
  }
 ],
 "metadata": {
  "kernelspec": {
   "display_name": "Python 3",
   "language": "python",
   "name": "python3"
  },
  "language_info": {
   "codemirror_mode": {
    "name": "ipython",
    "version": 3
   },
   "file_extension": ".py",
   "mimetype": "text/x-python",
   "name": "python",
   "nbconvert_exporter": "python",
   "pygments_lexer": "ipython3",
   "version": "3.11.1"
  }
 },
 "nbformat": 4,
 "nbformat_minor": 2
}
