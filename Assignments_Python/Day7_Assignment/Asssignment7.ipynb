{
 "cells": [
  {
   "cell_type": "code",
   "execution_count": 1,
   "metadata": {},
   "outputs": [
    {
     "name": "stdout",
     "output_type": "stream",
     "text": [
      "    * \n",
      "   * * \n",
      "  * * * \n",
      " * * * * \n",
      "* * * * * \n",
      " * * * * \n",
      "  * * * \n",
      "   * * \n",
      "    * \n"
     ]
    }
   ],
   "source": [
    "# Question A\n",
    "n = 5  # Number of rows\n",
    "for i in range(1, n + 1):\n",
    "    print(\" \" * (n - i) + \"* \" * i)\n",
    "for i in range(n - 1, 0, -1):\n",
    "    print(\" \" * (n - i) + \"* \" * i)"
   ]
  },
  {
   "cell_type": "code",
   "execution_count": 1,
   "metadata": {},
   "outputs": [
    {
     "name": "stdout",
     "output_type": "stream",
     "text": [
      "* \n",
      "* * \n",
      "* * * \n",
      "* * * * \n",
      "* * * * * \n",
      "* * * * \n",
      "* * * \n",
      "* * \n",
      "* \n"
     ]
    }
   ],
   "source": [
    "# Question B \n",
    "\n",
    "for i in range(1,6): \n",
    "    for j in range(1,i+1): \n",
    "        print(\"*\",end=\" \") \n",
    "    print() \n",
    "     \n",
    "for i in range(1,5): \n",
    "    for j in range(1,6-i): \n",
    "        print(\"*\",end=\" \") \n",
    "    print()"
   ]
  },
  {
   "cell_type": "code",
   "execution_count": 2,
   "metadata": {},
   "outputs": [
    {
     "name": "stdout",
     "output_type": "stream",
     "text": [
      "1 \n",
      "1 2 \n",
      "1   3 \n",
      "1     4 \n",
      "1 2 3 4 5 \n"
     ]
    }
   ],
   "source": [
    "# Question C\n",
    "\n",
    "for i in range(1,6): \n",
    "    for j in range(1,i+1): \n",
    "        if j==1 or i==5 or i==j: \n",
    "            print(j,end=\" \") \n",
    "        else: \n",
    "            print(\" \",end=\" \") \n",
    "    print()"
   ]
  },
  {
   "cell_type": "code",
   "execution_count": 3,
   "metadata": {},
   "outputs": [
    {
     "name": "stdout",
     "output_type": "stream",
     "text": [
      "          1 \n",
      "        2 3 2 \n",
      "      3 4 5 4 3 \n",
      "    4 5 6 7 6 5 4 \n",
      "  5 6 7 8 9 8 7 6 5 \n"
     ]
    }
   ],
   "source": [
    "# Question D\n",
    "\n",
    "for i in range(1,6): \n",
    "    for j in range(1,7-i): \n",
    "        print(\" \",end=\" \") \n",
    "    s=i \n",
    "    for j in range(1,i+1): \n",
    "        print(s,end=\" \") \n",
    "        s+=1 \n",
    " \n",
    "         \n",
    "    k = s-2 \n",
    "    for j in range(2,i+1): \n",
    "        print(k,end=\" \") \n",
    "        k -= 1 \n",
    "    print() "
   ]
  },
  {
   "cell_type": "code",
   "execution_count": 4,
   "metadata": {},
   "outputs": [
    {
     "name": "stdout",
     "output_type": "stream",
     "text": [
      "            1 \n",
      "          1   2 \n",
      "        1       3 \n",
      "      1           4 \n",
      "    1   2   3   4   5 \n"
     ]
    }
   ],
   "source": [
    "# Pattern (e)\n",
    "for i in range(1,6): \n",
    "    for j in range(1,7-i): \n",
    "        print(\" \",end=\" \") \n",
    "         \n",
    "    for j in range(1,i+1): \n",
    "        if j==1 or i==j or i==5: \n",
    "            print(\" \",j,end=\" \") \n",
    "        else: \n",
    "            print(\"   \",end=\" \") \n",
    "    print()"
   ]
  },
  {
   "cell_type": "code",
   "execution_count": 5,
   "metadata": {},
   "outputs": [
    {
     "name": "stdout",
     "output_type": "stream",
     "text": [
      "1 2 3 4 5 \n",
      "2     5 \n",
      "3   5 \n",
      "4 5 \n",
      "5 \n"
     ]
    }
   ],
   "source": [
    "# Pattern (h)\n",
    "for i in range(1,6): \n",
    "    s=i \n",
    "    for j in range(1,7-i): \n",
    "        if i==1 or j==1 or j==6-i: \n",
    "            print(s,end=\" \") \n",
    "            s+=1 \n",
    "        else: \n",
    "            print(\" \",end=\" \") \n",
    "            s+=1 \n",
    "    print() "
   ]
  },
  {
   "cell_type": "code",
   "execution_count": 6,
   "metadata": {},
   "outputs": [
    {
     "name": "stdout",
     "output_type": "stream",
     "text": [
      "          1 \n",
      "        1 2 1 \n",
      "      1 2 3 2 1 \n",
      "    1 2 3 4 3 2 1 \n",
      "  1 2 3 4 5 4 3 2 1 \n"
     ]
    }
   ],
   "source": [
    "# Pattern (i)\n",
    "for i in range(1,6): \n",
    "    for j in range(1,7-i): \n",
    "        print(\" \",end=\" \") \n",
    "         \n",
    "    for  j in range(1,i+1): \n",
    "        print(j,end=\" \") \n",
    "         \n",
    "    k = j-1 \n",
    "    for j in range(2,i+1): \n",
    "        print(k,end=\" \") \n",
    "        k -= 1 \n",
    "    print() "
   ]
  },
  {
   "cell_type": "code",
   "execution_count": 8,
   "metadata": {},
   "outputs": [
    {
     "name": "stdout",
     "output_type": "stream",
     "text": [
      "1               1 \n",
      "1 2           2 1 \n",
      "1 2 3       3 2 1 \n",
      "1 2 3 4   4 3 2 1 \n",
      "1 2 3 4 5 4 3 2 1 \n"
     ]
    }
   ],
   "source": [
    "# Pattern (j)\n",
    "for i in range(1,6): \n",
    "    for j in range(1,i+1): \n",
    "        print(j,end=\" \") \n",
    "         \n",
    "    for j in range(1,6-i): \n",
    "        print(\" \",end=\" \") \n",
    "         \n",
    "    for j in range(1,5-i): \n",
    "        print(\" \",end=\" \") \n",
    "         \n",
    "    s=i \n",
    "    #for j in range(1,i+1): \n",
    "    if s==5: \n",
    "            s=4 \n",
    "            for j in range(1,i): \n",
    "                print(s,end=\" \") \n",
    "                s-=1 \n",
    "    else: \n",
    "            for j in range(1,i+1): \n",
    "                print(s,end=\" \") \n",
    "                s-=1           \n",
    "    print() \n"
   ]
  },
  {
   "cell_type": "code",
   "execution_count": null,
   "metadata": {},
   "outputs": [],
   "source": []
  }
 ],
 "metadata": {
  "kernelspec": {
   "display_name": "Python 3",
   "language": "python",
   "name": "python3"
  },
  "language_info": {
   "codemirror_mode": {
    "name": "ipython",
    "version": 3
   },
   "file_extension": ".py",
   "mimetype": "text/x-python",
   "name": "python",
   "nbconvert_exporter": "python",
   "pygments_lexer": "ipython3",
   "version": "3.11.1"
  }
 },
 "nbformat": 4,
 "nbformat_minor": 2
}
