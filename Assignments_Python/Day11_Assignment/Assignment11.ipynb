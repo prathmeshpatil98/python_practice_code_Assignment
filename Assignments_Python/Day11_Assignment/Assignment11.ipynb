{
 "cells": [
  {
   "cell_type": "code",
   "execution_count": 1,
   "metadata": {},
   "outputs": [
    {
     "name": "stdout",
     "output_type": "stream",
     "text": [
      "Even List: [10, 20, 30, 42, 96]\n",
      "Odd List: [35, 15, 87, 39, 45]\n"
     ]
    }
   ],
   "source": [
    "#1 Python Program to Put Even and Odd elements of a List into two Different Lists\n",
    "\n",
    "list = [ 10,20,30,35,42,15,87,96,39,45]\n",
    "\n",
    "even = []\n",
    "odd= []\n",
    "\n",
    "for i in list:\n",
    "    if i % 2 == 0:\n",
    "        even.append(i)\n",
    "    else:\n",
    "        odd.append(i)\n",
    "\n",
    "print(\"Even List:\",even)\n",
    "print(\"Odd List:\",odd)\n",
    "\n"
   ]
  },
  {
   "cell_type": "code",
   "execution_count": 1,
   "metadata": {},
   "outputs": [
    {
     "name": "stdout",
     "output_type": "stream",
     "text": [
      "[1, 2, 3, 4, 5, 6, 7, 8, 10]\n"
     ]
    }
   ],
   "source": [
    "#6  Python Program to Find the Union of two Lists\n",
    "\n",
    "list1 = [1,2,3,4,5,6,7 ]\n",
    "list2 = [3,4,5,6,7,8,10]\n",
    "\n",
    "for i in list2:\n",
    "    if i not in list1:\n",
    "        list1.append(i)\n",
    "\n",
    "print(list1)\n",
    "\n"
   ]
  },
  {
   "cell_type": "code",
   "execution_count": 12,
   "metadata": {},
   "outputs": [
    {
     "name": "stdout",
     "output_type": "stream",
     "text": [
      "[3, 4, 5, 6, 7]\n"
     ]
    }
   ],
   "source": [
    "#7 Python program to Find the Intersection of two Lists\n",
    "\n",
    "list1 = [1,2,3,4,5,6,7 ]\n",
    "list2 = [3,4,5,6,7,8,10]\n",
    "\n",
    "list3 = []\n",
    "\n",
    "for i in list1:\n",
    "    if i in list2:\n",
    "        list3.append(i)\n",
    "\n",
    "print(list3)"
   ]
  },
  {
   "cell_type": "code",
   "execution_count": null,
   "metadata": {},
   "outputs": [],
   "source": []
  },
  {
   "cell_type": "code",
   "execution_count": null,
   "metadata": {},
   "outputs": [],
   "source": []
  },
  {
   "cell_type": "code",
   "execution_count": null,
   "metadata": {},
   "outputs": [],
   "source": []
  },
  {
   "cell_type": "code",
   "execution_count": null,
   "metadata": {},
   "outputs": [],
   "source": []
  },
  {
   "cell_type": "code",
   "execution_count": null,
   "metadata": {},
   "outputs": [],
   "source": []
  },
  {
   "cell_type": "code",
   "execution_count": null,
   "metadata": {},
   "outputs": [],
   "source": []
  },
  {
   "cell_type": "code",
   "execution_count": 6,
   "metadata": {},
   "outputs": [
    {
     "name": "stdout",
     "output_type": "stream",
     "text": [
      "Intersection of two Lists: {3, 4, 5, 6, 7}\n"
     ]
    }
   ],
   "source": [
    "# 7 Python Program to Find the Intersection of two Lists\n",
    "\n",
    "intersection = set1.intersection(set2)\n",
    "\n",
    "print(\"Intersection of two Lists:\",intersection)"
   ]
  },
  {
   "cell_type": "code",
   "execution_count": null,
   "metadata": {},
   "outputs": [],
   "source": []
  }
 ],
 "metadata": {
  "kernelspec": {
   "display_name": "Python 3",
   "language": "python",
   "name": "python3"
  },
  "language_info": {
   "codemirror_mode": {
    "name": "ipython",
    "version": 3
   },
   "file_extension": ".py",
   "mimetype": "text/x-python",
   "name": "python",
   "nbconvert_exporter": "python",
   "pygments_lexer": "ipython3",
   "version": "3.11.1"
  }
 },
 "nbformat": 4,
 "nbformat_minor": 2
}
