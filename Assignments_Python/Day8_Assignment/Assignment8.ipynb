{
 "cells": [
  {
   "cell_type": "code",
   "execution_count": 1,
   "metadata": {},
   "outputs": [
    {
     "name": "stdout",
     "output_type": "stream",
     "text": [
      "area of rectangle is 30\n"
     ]
    }
   ],
   "source": [
    "# Write a program to calculate area of rectangle \n",
    "\n",
    "def rectangle():\n",
    "    length = int(input(\"Enter length of rectangle : \"))\n",
    "    breadth = int(input(\"Enter breadth of rectangle : \"))\n",
    "    area = length * breadth\n",
    "    print(f\"area of rectangle is {area}\")\n",
    "\n",
    "rectangle()"
   ]
  },
  {
   "cell_type": "code",
   "execution_count": 4,
   "metadata": {},
   "outputs": [
    {
     "name": "stdout",
     "output_type": "stream",
     "text": [
      "The Area of the Circle is :  200.96\n"
     ]
    }
   ],
   "source": [
    "#Write a program to calculate area of circle \n",
    "\n",
    "def Area_of_circle():\n",
    "    radius = int(input(\"Please Enter the radius of the Circle : \"))\n",
    "    area = 3.14 * radius * radius\n",
    "    print(\"The Area of the Circle is : \" ,area)\n",
    "    \n",
    "Area_of_circle()"
   ]
  },
  {
   "cell_type": "code",
   "execution_count": null,
   "metadata": {},
   "outputs": [],
   "source": []
  },
  {
   "cell_type": "code",
   "execution_count": null,
   "metadata": {},
   "outputs": [
    {
     "name": "stdout",
     "output_type": "stream",
     "text": [
      "14\n"
     ]
    }
   ],
   "source": [
    "# Write a program to find sum of following series using functions : \n",
    "# a.  1+ 2 + 3 + 4+….. + n \n",
    "# b. 1!+ 2! + 3! + 4!+….. + n! \n",
    "# c. 1^1 + 2^2 + 3^3+ …… n^n \n",
    "\n",
    "\n",
    "def sum_of_number():\n",
    "    n = int(input(\"Please Enter the Number : \"))\n",
    "    ans = 0\n",
    "    for i in range(0 , n):\n",
    "        ans += i\n",
    "    print(ans)\n",
    "    \n",
    "    \n",
    "def sum_of_Factorial():\n",
    "    n = int(input(\"Please Enter the number : \"))\n",
    "    ans = 0\n",
    "    for i in range(1 ,n):\n",
    "        ans += i\n",
    "        for j in range(1 , n):\n",
    "            ans += i\n",
    "    print(ans)\n",
    "        \n",
    "def sum_of_square_root():\n",
    "    n = int(input(\"Please Enter the number : \"))\n",
    "    ans = 0\n",
    "    for i in range(0 , n+1):\n",
    "        count = i * i\n",
    "        ans += count\n",
    "    print(ans)\n",
    "\n",
    "\n",
    "\n",
    "sum_of_number()\n",
    "sum_of_Factorial()\n",
    "sum_of_square_root()"
   ]
  },
  {
   "cell_type": "code",
   "execution_count": 5,
   "metadata": {},
   "outputs": [
    {
     "name": "stdout",
     "output_type": "stream",
     "text": [
      "16\n"
     ]
    }
   ],
   "source": [
    "# Sum of all odd numbers between 1 to n \n",
    "\n",
    "def sum_of_odd():\n",
    "    num = int(input(\"Please Enter the number : \"))\n",
    "    ans = 0\n",
    "    for i in range(1 ,num+1):\n",
    "        if i % 2 != 0:\n",
    "            ans += i \n",
    "        else:\n",
    "            pass\n",
    "    print(ans)\n",
    "        \n",
    "sum_of_odd()"
   ]
  },
  {
   "cell_type": "code",
   "execution_count": 13,
   "metadata": {},
   "outputs": [
    {
     "name": "stdout",
     "output_type": "stream",
     "text": [
      "17\n"
     ]
    }
   ],
   "source": [
    "#Sum of all prime numbers between 1 to n\n",
    "\n",
    "def sum_of_Prime(n):\n",
    "    ans = 0\n",
    "    for i in range(2,n):\n",
    "        for j in range(2,i):\n",
    "            if(i % j == 0):\n",
    "                break\n",
    "        else:\n",
    "            ans += i\n",
    "    print(ans)\n",
    "\n",
    "n = int(input(\"Please Enter the Number : \"))\n",
    "sum_of_Prime(n)"
   ]
  },
  {
   "cell_type": "code",
   "execution_count": 23,
   "metadata": {},
   "outputs": [
    {
     "name": "stdout",
     "output_type": "stream",
     "text": [
      "1\n",
      "1\n",
      "2\n",
      "3\n",
      "5\n"
     ]
    }
   ],
   "source": [
    "# Write a program to find print the following Fibonacci series using functions:  \n",
    "\n",
    "def fibonacci(n):\n",
    "    a = 1\n",
    "    b = 1   \n",
    "    for i in range(1,n+1):\n",
    "        print(a)\n",
    "        c = a + b\n",
    "        a = b\n",
    "        b = c\n",
    "        \n",
    "        \n",
    "    \n",
    "n = int(input(\"Please Enter the NUmber : \"))\n",
    "fibonacci(n)\n"
   ]
  },
  {
   "cell_type": "code",
   "execution_count": null,
   "metadata": {},
   "outputs": [],
   "source": [
    "# Write a program find reverse of a number\n",
    "\n",
    "def reverse_number(num):\n",
    "    reverse = 0\n",
    "    while num > 0:\n",
    "        digit = num % 10\n",
    "        reverse = reverse * 10 + digit\n",
    "        num = num // 10\n",
    "    return reverse\n",
    "\n",
    "number = 12345\n",
    "print(f\"Reverse of {number}: {reverse_number(number)}\")\n"
   ]
  },
  {
   "cell_type": "code",
   "execution_count": 2,
   "metadata": {},
   "outputs": [
    {
     "name": "stdout",
     "output_type": "stream",
     "text": [
      "Is 254 a palindrome? False\n"
     ]
    }
   ],
   "source": [
    "#Write a program to check if entered number is a palindrome or not.\n",
    "\n",
    "def is_palindrome(num):\n",
    "    def reverse_number(num):\n",
    "        reverse = 0\n",
    "        while num > 0:\n",
    "            digit = num % 10\n",
    "            reverse = reverse * 10 + digit\n",
    "            num = num // 10\n",
    "        return reverse\n",
    "\n",
    "    return num == reverse_number(num)\n",
    "\n",
    "\n",
    "number = int(input(\"Please Enter a Number : \"))\n",
    "print(f\"Is {number} a palindrome? {is_palindrome(number)}\")\n"
   ]
  },
  {
   "cell_type": "code",
   "execution_count": null,
   "metadata": {},
   "outputs": [],
   "source": [
    "def is_leap_year(year):\n",
    "    if (year % 4 == 0 and year % 100 != 0) or (year % 400 == 0):\n",
    "        return True\n",
    "    return False\n",
    "\n",
    "\n",
    "year = 2024\n",
    "print(f\"Is {year} a leap year? {is_leap_year(year)}\")\n"
   ]
  },
  {
   "cell_type": "code",
   "execution_count": 3,
   "metadata": {},
   "outputs": [
    {
     "name": "stdout",
     "output_type": "stream",
     "text": [
      "Is 153 an Armstrong number? True\n"
     ]
    }
   ],
   "source": [
    "def is_armstrong_number(num):\n",
    "    sum_of_powers = 0\n",
    "    temp = num\n",
    "    digits = len(str(num))\n",
    "    while temp > 0:\n",
    "        digit = temp % 10\n",
    "        sum_of_powers += digit ** digits\n",
    "        temp //= 10\n",
    "    return sum_of_powers == num\n",
    "\n",
    "number = 153\n",
    "print(f\"Is {number} an Armstrong number? {is_armstrong_number(number)}\")\n"
   ]
  },
  {
   "cell_type": "code",
   "execution_count": null,
   "metadata": {},
   "outputs": [],
   "source": []
  }
 ],
 "metadata": {
  "kernelspec": {
   "display_name": "Python 3",
   "language": "python",
   "name": "python3"
  },
  "language_info": {
   "codemirror_mode": {
    "name": "ipython",
    "version": 3
   },
   "file_extension": ".py",
   "mimetype": "text/x-python",
   "name": "python",
   "nbconvert_exporter": "python",
   "pygments_lexer": "ipython3",
   "version": "3.11.1"
  }
 },
 "nbformat": 4,
 "nbformat_minor": 2
}
