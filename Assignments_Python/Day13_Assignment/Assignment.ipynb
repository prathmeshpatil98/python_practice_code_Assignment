{
 "cells": [
  {
   "cell_type": "code",
   "execution_count": 4,
   "metadata": {},
   "outputs": [
    {
     "data": {
      "text/plain": [
       "{'name': 'king', 'wife': 'queen ', 'salary ': 5000000}"
      ]
     },
     "execution_count": 4,
     "metadata": {},
     "output_type": "execute_result"
    }
   ],
   "source": [
    "#Question1 Python Program to Add a Key-Value Pair to the Dictionary.\n",
    "\n",
    "data = {\"name\" : \"king\" ,  \"wife\" : \"queen \", \"salary \" : 5000000 }\n",
    "\n",
    "data"
   ]
  },
  {
   "cell_type": "code",
   "execution_count": 9,
   "metadata": {},
   "outputs": [
    {
     "data": {
      "text/plain": [
       "{'Name': 'Angha', 'Gender': 'Female', 'salary ': 80000, 'salary': 120000}"
      ]
     },
     "execution_count": 9,
     "metadata": {},
     "output_type": "execute_result"
    }
   ],
   "source": [
    "#Question 2  Python Program to Concatenate Two Dictionaries Into One.\n",
    "\n",
    "\n",
    "data1 = {\"Name\" : \"Prathmesh\" ,  \"Gender\" : \"Male \", \"salary \" : 80000 }\n",
    "data2 = {\"Name\" : \"Anagha\" , \"Gender\" : \"Female\" , \"salary\" : 120000 }\n",
    "\n",
    "data1.update(data2)\n",
    "data1"
   ]
  },
  {
   "cell_type": "code",
   "execution_count": null,
   "metadata": {},
   "outputs": [],
   "source": [
    "#Question 3 Python Program to Check if a Given Key Exists in a Dictionary or Not \n",
    "\n",
    "data1 = {\"Name\" : \"Prathmesh\" ,  \"Gender\" : \"Male \", \"salary \" : 80000 }\n",
    "\n",
    "\n"
   ]
  },
  {
   "cell_type": "code",
   "execution_count": null,
   "metadata": {},
   "outputs": [],
   "source": [
    "#Question 4 Python Program to Generate a Dictionary that Contains Numbers (between 1 and n) in the Form (x,x*x). \n",
    "\n"
   ]
  },
  {
   "cell_type": "code",
   "execution_count": null,
   "metadata": {},
   "outputs": [],
   "source": [
    "#Question 5 Python Program to Generate a Dictionary that Contains Numbers (between 1 and n) in the Form (x,x*x). \n",
    "\n"
   ]
  },
  {
   "cell_type": "code",
   "execution_count": null,
   "metadata": {},
   "outputs": [],
   "source": []
  }
 ],
 "metadata": {
  "kernelspec": {
   "display_name": "Python 3",
   "language": "python",
   "name": "python3"
  },
  "language_info": {
   "codemirror_mode": {
    "name": "ipython",
    "version": 3
   },
   "file_extension": ".py",
   "mimetype": "text/x-python",
   "name": "python",
   "nbconvert_exporter": "python",
   "pygments_lexer": "ipython3",
   "version": "3.11.1"
  }
 },
 "nbformat": 4,
 "nbformat_minor": 2
}
