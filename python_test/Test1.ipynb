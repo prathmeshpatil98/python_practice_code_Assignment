{
 "cells": [
  {
   "cell_type": "code",
   "execution_count": 20,
   "metadata": {},
   "outputs": [
    {
     "name": "stdout",
     "output_type": "stream",
     "text": [
      "The Area of diagram is 139.25 and Perimeter is 45.7\n"
     ]
    }
   ],
   "source": [
    "#1 Write a programme to find the area and perimeter of the following figure ( length , Breadth and radius )\n",
    "\n",
    "\n",
    "length = int(input(\"Enter the length of the rectangle: \"))\n",
    "breadth = int(input(\"Enter the breadth of the rectangle: \"))\n",
    "radius = int(input(\"Enter the radius of the semicircle: \"))\n",
    "\n",
    "if radius * 2 != breadth:\n",
    "    print(\"Error: Radius is a half of the breadth of the rectangle.\")\n",
    "else:\n",
    "    rectangular_area = length * breadth\n",
    "    semicircular_area = (3.14 * radius * radius) / 2\n",
    "    total_area = rectangular_area + semicircular_area\n",
    "\n",
    "    rectangular_perimeter = 2 * length + 2 * (breadth - radius)\n",
    "    semicircular_perimeter = 3.14 * radius\n",
    "    total_perimeter = rectangular_perimeter + semicircular_perimeter\n",
    "\n",
    "    print(f\"The Area of diagram is {total_area} and Perimeter is {total_perimeter}\")\n"
   ]
  },
  {
   "cell_type": "code",
   "execution_count": 24,
   "metadata": {},
   "outputs": [
    {
     "name": "stdout",
     "output_type": "stream",
     "text": [
      "The Area of diagram is 139.25 and Perimeter is 45.7\n"
     ]
    }
   ],
   "source": [
    "length = int(input(\"Please Enter the Length of the Perimeter : \"))\n",
    "radius = int(input(\"Please Enter the radius of the Perimeter : \"))\n",
    "\n",
    "area = 2 * (length * radius ) + ((3.14 * radius * radius ) /2)\n",
    "perimeter = (2 * length) + (radius * ( 2 + 3.14))\n",
    "\n",
    "# print(perimeter)\n",
    "# print(area)\n",
    "print(f\"The Area of diagram is {area} and Perimeter is {perimeter}\")"
   ]
  },
  {
   "cell_type": "code",
   "execution_count": 5,
   "metadata": {},
   "outputs": [
    {
     "name": "stdout",
     "output_type": "stream",
     "text": [
      "The simple Interest is  100.0\n"
     ]
    }
   ],
   "source": [
    "#2 write a programme to calculate Simple interest \n",
    "\n",
    "principle = int(input(\"Please Enter the Principle : \"))\n",
    "rate = int(input(\"Please Enter the Rate : \"))\n",
    "Time = int(input(\"Please Enter the time : \"))\n",
    "\n",
    "simple_interest = (principle * rate * Time ) / 100\n",
    "\n",
    "\n",
    "print(\"The simple Interest is\", simple_interest)\n"
   ]
  },
  {
   "cell_type": "code",
   "execution_count": 6,
   "metadata": {},
   "outputs": [
    {
     "name": "stdout",
     "output_type": "stream",
     "text": [
      "The Distance of 2 kilometer is 2000 metre and 200000 Centi Meter .\n"
     ]
    }
   ],
   "source": [
    "#3 write a programme to accept distance in Km and Convert in into meters and centimets \n",
    "\n",
    "km = int(input(\"Please Enter the Kilometer : \"))\n",
    "\n",
    "metre = km * 1000\n",
    "centi_meter = metre * 100\n",
    "\n",
    "print(f\"The Distance of {km} kilometer is {metre} metre and {centi_meter} Centi Meter .\")"
   ]
  },
  {
   "cell_type": "code",
   "execution_count": 23,
   "metadata": {},
   "outputs": [
    {
     "name": "stdout",
     "output_type": "stream",
     "text": [
      "The final Cost is  1400\n"
     ]
    }
   ],
   "source": [
    "#4 Calculate the Cost of the painting of the Building Walls (area and Cost of both interior and exteriro wall )\n",
    "\n",
    "\n",
    "area_of_Interior = int(input(\"Please Enter the area of Interior : \"))\n",
    "area_of_Exterior = int(input(\"Please Enter the Area of Exterior : \"))\n",
    "cost_of_interior  = int(input(\"Please Enter the Cost of Interior : \"))\n",
    "cost_Of_exterior   = int(input(\"Please Enter the Cost of Exterior : \"))\n",
    "\n",
    "\n",
    "final_Cost = (area_of_Interior * cost_of_interior) + (area_of_Exterior * cost_Of_exterior)\n",
    "\n",
    "print(\"The final Cost is\", final_Cost)\n"
   ]
  },
  {
   "cell_type": "code",
   "execution_count": null,
   "metadata": {},
   "outputs": [],
   "source": []
  }
 ],
 "metadata": {
  "kernelspec": {
   "display_name": "Python 3",
   "language": "python",
   "name": "python3"
  },
  "language_info": {
   "codemirror_mode": {
    "name": "ipython",
    "version": 3
   },
   "file_extension": ".py",
   "mimetype": "text/x-python",
   "name": "python",
   "nbconvert_exporter": "python",
   "pygments_lexer": "ipython3",
   "version": "3.11.1"
  }
 },
 "nbformat": 4,
 "nbformat_minor": 2
}
