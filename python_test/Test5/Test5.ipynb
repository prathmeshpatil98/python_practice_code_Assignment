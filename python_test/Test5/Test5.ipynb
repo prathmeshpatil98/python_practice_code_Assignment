{
 "cells": [
  {
   "cell_type": "code",
   "execution_count": 15,
   "metadata": {},
   "outputs": [
    {
     "name": "stdout",
     "output_type": "stream",
     "text": [
      "Minimum number of notes: 4\n",
      "Note breakdown: {500: 1, 100: 1, 50: 1, 5: 1}\n"
     ]
    }
   ],
   "source": [
    "# Question 1 . A list contains the denominators as follows : D = [2000,500,200,100,50,20,10,5] Accept an Amount from user and calculate how many minimum number of notes will be needed for that amount.\n",
    "\n",
    "\n",
    "\n",
    "def minimum_notes(amount):\n",
    "    D = [2000, 500, 200, 100, 50, 20, 10, 5]\n",
    "    count = 0\n",
    "    notes = {}  \n",
    "\n",
    "    for note in D:\n",
    "        if amount >= note:\n",
    "            num_notes = amount // note  \n",
    "            count = count + num_notes\n",
    "            notes[note] = num_notes  \n",
    "            amount = amount % note \n",
    "\n",
    "    return count, notes\n",
    "\n",
    "amount = int(input(\"Enter the amount: \"))\n",
    "total_notes, note_counts = minimum_notes(amount)\n",
    "\n",
    "print(\"Minimum number of notes:\", total_notes)\n",
    "print(\"Note breakdown:\",note_counts)\n"
   ]
  },
  {
   "cell_type": "code",
   "execution_count": 12,
   "metadata": {},
   "outputs": [
    {
     "name": "stdout",
     "output_type": "stream",
     "text": [
      "3\n"
     ]
    }
   ],
   "source": [
    "# Question 2  A teacher came to class with a large box tokhat has several coins. Each coin has a number printed on it. Before coming to class, she ensured that All  the numbers occur an Even number of times. However, hilecoming to the class, one oin fell down and got lost. She wants to find out the number on the missing coin. \n",
    "\n",
    "\n",
    "\n",
    "n = int(input(\"original number of coins: \")) \n",
    "coins_input = input(\"actual no. of coins: \").split() \n",
    "coins = []\n",
    "for i in coins_input:\n",
    "    coins.append(int(i))  \n",
    "\n",
    "missing_coin = 0\n",
    "for j in coins:\n",
    "    missing_coin ^= j\n",
    "\n",
    "print(missing_coin)\n"
   ]
  },
  {
   "cell_type": "code",
   "execution_count": 7,
   "metadata": {},
   "outputs": [
    {
     "name": "stdout",
     "output_type": "stream",
     "text": [
      "[340, 'Rajani', 13000]\n",
      "[210, 'Tannu', 14000]\n",
      "[320, 'Suresh', 35000]\n",
      "[101, 'Seema', 45000]\n"
     ]
    }
   ],
   "source": [
    "# Question 3 A list contains sublist with EMP information as follows : Data = [[101,”Seema”,45000],[340,”Rajani”,13000], [210,”Tannu”,14000],[320,”Suresh”,35000]] Write a program to sort the list based on salary.\n",
    "\n",
    "from anyio import key\n",
    "\n",
    "\n",
    "Data = [[101,\"Seema\",45000],[340,\"Rajani\",13000], [210,\"Tannu\",14000],[320,\"Suresh\",35000]]\n",
    "\n",
    "Data.sort(key=lambda emp:emp[2])\n",
    "\n",
    "for emp in Data:\n",
    "    print(emp)"
   ]
  },
  {
   "cell_type": "code",
   "execution_count": 13,
   "metadata": {},
   "outputs": [
    {
     "data": {
      "text/plain": [
       "{1: 3, 3: 2, 4: 2, 2: 2, 6: 1, 7: 1}"
      ]
     },
     "execution_count": 13,
     "metadata": {},
     "output_type": "execute_result"
    }
   ],
   "source": [
    "# Question 4 There is a list with some numbers. Create a new dictionary using this list in such a way that key is number and value is frequency of occurrence of that number in list. [1,3,4,1,2,3,6,7,1,2,4] {1:3,3:2,2:2 }\n",
    "\n",
    "\n",
    "numbers = [1,3,4,1,2,3,6,7,1,2,4]\n",
    "frequancy = {}\n",
    "\n",
    "for num in numbers:\n",
    "    frequancy[num] = frequancy.get(num , 0 ) +1 \n",
    "\n",
    "frequancy"
   ]
  },
  {
   "cell_type": "code",
   "execution_count": 17,
   "metadata": {},
   "outputs": [
    {
     "name": "stdout",
     "output_type": "stream",
     "text": [
      "Union of the lists: [1, 2, 3, 4, 5, 6, 9]\n"
     ]
    }
   ],
   "source": [
    "# Question 5 python programme to find the union of two lists without using set concept.\n",
    "\n",
    "\n",
    "list1 = [1, 2, 3, 4,5]\n",
    "list2 = [3, 5, 6, 1,9]\n",
    "\n",
    "def list_union(list1, list2):\n",
    "    union_list = list1[:] \n",
    "    for item in list2:\n",
    "        if item not in union_list:\n",
    "            union_list.append(item)\n",
    "    return union_list\n",
    "\n",
    "\n",
    "union_result = list_union(list1, list2)\n",
    "print(\"Union of the lists:\",union_result)"
   ]
  },
  {
   "cell_type": "code",
   "execution_count": null,
   "metadata": {},
   "outputs": [],
   "source": []
  }
 ],
 "metadata": {
  "kernelspec": {
   "display_name": "Python 3",
   "language": "python",
   "name": "python3"
  },
  "language_info": {
   "codemirror_mode": {
    "name": "ipython",
    "version": 3
   },
   "file_extension": ".py",
   "mimetype": "text/x-python",
   "name": "python",
   "nbconvert_exporter": "python",
   "pygments_lexer": "ipython3",
   "version": "3.11.1"
  }
 },
 "nbformat": 4,
 "nbformat_minor": 2
}
