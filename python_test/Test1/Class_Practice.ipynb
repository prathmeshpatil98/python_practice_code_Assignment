{
 "cells": [
  {
   "cell_type": "code",
   "execution_count": 4,
   "metadata": {},
   "outputs": [
    {
     "name": "stdout",
     "output_type": "stream",
     "text": [
      "chase = 107\n",
      "name = Prathmesh\n",
      "Price = 80000\n",
      "Mileage = 18\n",
      "------------------------------------\n",
      "chase = 106\n",
      "name = Prathmesh\n",
      "Price = 90000\n",
      "Mileage = 19\n"
     ]
    }
   ],
   "source": [
    "class Bike :\n",
    "    \n",
    "    def __init__(self,Name,chase,price,mileage):\n",
    "        self.chase = chase \n",
    "        self.Name = Name\n",
    "        self.price = price\n",
    "        self.mileage =mileage\n",
    "        \n",
    "    def Display(self):\n",
    "        print(f\"chase = {self.chase}\")\n",
    "        print(f\"name = {self.Name}\")\n",
    "        print(f\"Price = {self.price}\")\n",
    "        print(f\"Mileage = {self.mileage}\")\n",
    "        \n",
    "data = Bike(\"Prathmesh\",107,80000,18)\n",
    "data.Display()\n",
    "print(\"------------------------------------\")\n",
    "data1 = Bike(\"Prathmesh\",106,90000,19)\n",
    "data1.Display()"
   ]
  },
  {
   "cell_type": "code",
   "execution_count": 3,
   "metadata": {},
   "outputs": [
    {
     "name": "stdout",
     "output_type": "stream",
     "text": [
      "Registration No = MH09 PR 106 \n",
      "Model = Toyota Fortuner\n",
      "Price = 4500000\n",
      "------------------------------------\n",
      "Registration No = MH09 QR 106 \n",
      "Model = Toyota Fortuner\n",
      "Price = 4500000\n"
     ]
    }
   ],
   "source": [
    "class Vehicle:\n",
    "    \n",
    "    def __init__(self, reg_no, model, price):\n",
    "        self.reg_no = reg_no\n",
    "        self.model = model\n",
    "        self.price = price  \n",
    "\n",
    "    def Display(self):\n",
    "        print(f\"Registration No = {self.reg_no}\")\n",
    "        print(f\"Model = {self.model}\")\n",
    "        print(f\"Price = {self.price}\")\n",
    "        \n",
    "veh = Vehicle(\"MH09 PR 106 \", \"Toyota Fortuner\", 4500000)\n",
    "veh.Display()\n",
    "\n",
    "print(\"------------------------------------\")\n",
    "\n",
    "veh = Vehicle(\"MH09 QR 106 \", \"Toyota Fortuner\", 4500000)\n",
    "veh.Display()\n"
   ]
  },
  {
   "cell_type": "code",
   "execution_count": 2,
   "metadata": {},
   "outputs": [
    {
     "name": "stdout",
     "output_type": "stream",
     "text": [
      "Material = Wood\n",
      "Color = Brown\n",
      "Price = 5000\n",
      "------------------------------------\n",
      "Material = sandal\n",
      "Color = White\n",
      "Price = 10000\n"
     ]
    }
   ],
   "source": [
    "class Chair:\n",
    "    \n",
    "    def __init__(self, material, color, price):\n",
    "        self.material = material\n",
    "        self.color = color\n",
    "        self.price = price  \n",
    "\n",
    "    def Display(self):\n",
    "        print(f\"Material = {self.material}\")\n",
    "        print(f\"Color = {self.color}\")\n",
    "        print(f\"Price = {self.price}\")\n",
    "        \n",
    "chair = Chair(\"Wood\", \"Brown\", 5000)\n",
    "chair.Display()\n",
    "\n",
    "\n",
    "print(\"------------------------------------\")\n",
    "\n",
    "\n",
    "chair = Chair(\"sandal\", \"White\", 10000)\n",
    "chair.Display()"
   ]
  },
  {
   "cell_type": "code",
   "execution_count": null,
   "metadata": {},
   "outputs": [],
   "source": []
  }
 ],
 "metadata": {
  "kernelspec": {
   "display_name": "Python 3",
   "language": "python",
   "name": "python3"
  },
  "language_info": {
   "codemirror_mode": {
    "name": "ipython",
    "version": 3
   },
   "file_extension": ".py",
   "mimetype": "text/x-python",
   "name": "python",
   "nbconvert_exporter": "python",
   "pygments_lexer": "ipython3",
   "version": "3.11.1"
  }
 },
 "nbformat": 4,
 "nbformat_minor": 2
}
