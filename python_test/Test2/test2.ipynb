{
 "cells": [
  {
   "cell_type": "code",
   "execution_count": 1,
   "metadata": {},
   "outputs": [
    {
     "name": "stdout",
     "output_type": "stream",
     "text": [
      "2020 This is Leap Year \n"
     ]
    }
   ],
   "source": [
    "# Write a programme to find a a leap year a or not .\n",
    "\n",
    "year = int(input(\"Please Enter the year : \"))\n",
    "\n",
    "if (year % 4 == 0 and year % 100 != 0) or (year % 400 == 0):\n",
    "    print(f\"{year} This is Leap Year \")\n",
    "else:\n",
    "    print(\"Please Enter the Correct Leap year .\")"
   ]
  },
  {
   "cell_type": "code",
   "execution_count": 4,
   "metadata": {},
   "outputs": [
    {
     "name": "stdout",
     "output_type": "stream",
     "text": [
      "428 Yes , You have done It .\n"
     ]
    }
   ],
   "source": [
    "# write a programme to accept 3 digit number . If First digit is souble of the second digit and half of third digit then display \"Yes \" otherwise display Error .\n",
    "\n",
    "\n",
    "num = int(input(\"Please Enter the 3 number Digit : \"))\n",
    "\n",
    "a = num // 100\n",
    "b = num % 100 // 10\n",
    "c = num  % 10\n",
    "\n",
    "if ( a == b * 2 and c == a * 2):\n",
    "    print(f\"{num} Yes , You have done It .\")\n",
    "else:\n",
    "    print(\"Please try Next time .\")\n",
    "    \n",
    "    \n",
    "    "
   ]
  },
  {
   "cell_type": "code",
   "execution_count": 11,
   "metadata": {},
   "outputs": [
    {
     "name": "stdout",
     "output_type": "stream",
     "text": [
      "35490.0\n"
     ]
    }
   ],
   "source": [
    "\n",
    "length = 50\n",
    "breadth = 40\n",
    "radius = 20\n",
    "\n",
    "\n",
    "rectangular_perimeter = 2 * length + 2 * (breadth - radius)\n",
    "semicircular_perimeter = 3.14 * radius\n",
    "total_perimeter = rectangular_perimeter + semicircular_perimeter\n",
    "\n",
    "\n",
    "total_Cost_fencing = total_perimeter * 35 * 5\n",
    "\n",
    "print(total_Cost_fencing)\n"
   ]
  },
  {
   "cell_type": "code",
   "execution_count": 2,
   "metadata": {},
   "outputs": [
    {
     "name": "stdout",
     "output_type": "stream",
     "text": [
      "Total Cost =  16800\n"
     ]
    }
   ],
   "source": [
    "# write a programme to calculate the total cost of painting .The interior of building with four equal sized walls.\n",
    "\n",
    "def cost_calculate(cost , wall_height , wall_width = 10):\n",
    "    calculate_area = 0\n",
    "    single_wall_area = wall_height * wall_width\n",
    "    total_area = 4 * single_wall_area\n",
    "        \n",
    "    total_Cost = cost * total_area \n",
    "    print(\"Total Cost = \" , total_Cost)\n",
    "    \n",
    "cost_calculate(35,12)\n"
   ]
  },
  {
   "cell_type": "code",
   "execution_count": 17,
   "metadata": {},
   "outputs": [
    {
     "name": "stdout",
     "output_type": "stream",
     "text": [
      "590.0\n"
     ]
    }
   ],
   "source": [
    "# a man goes for shopping and take 5 items then calculate the total amount of bill with 18% of gst \n",
    "\n",
    "item1 = int(input(\"Please Enter the price of Item1 : \"))\n",
    "item2 = int(input(\"Please Enter the price of Item2 : \"))\n",
    "item3 = int(input(\"Please Enter the price of Item3 : \"))\n",
    "item4 = int(input(\"Please Enter the price of Item4 : \"))\n",
    "item5 = int(input(\"Please Enter the price of Item5 : \"))\n",
    "\n",
    "bill = item1 + item2 + item3 + item4 + item5 \n",
    "total_bill = bill * 18 / 100\n",
    "\n",
    "print(bill + total_bill)"
   ]
  },
  {
   "cell_type": "code",
   "execution_count": null,
   "metadata": {},
   "outputs": [],
   "source": []
  }
 ],
 "metadata": {
  "kernelspec": {
   "display_name": "Python 3",
   "language": "python",
   "name": "python3"
  },
  "language_info": {
   "codemirror_mode": {
    "name": "ipython",
    "version": 3
   },
   "file_extension": ".py",
   "mimetype": "text/x-python",
   "name": "python",
   "nbconvert_exporter": "python",
   "pygments_lexer": "ipython3",
   "version": "3.11.1"
  }
 },
 "nbformat": 4,
 "nbformat_minor": 2
}
