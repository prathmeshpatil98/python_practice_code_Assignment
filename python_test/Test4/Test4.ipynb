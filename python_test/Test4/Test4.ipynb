{
 "cells": [
  {
   "cell_type": "code",
   "execution_count": null,
   "metadata": {},
   "outputs": [
    {
     "name": "stdout",
     "output_type": "stream",
     "text": [
      "[]\n"
     ]
    }
   ],
   "source": [
    "# Question 1 , Write a function to which we passs a parameter and print the factors of a given number.\n",
    "\n",
    "def factors(number):\n",
    "    factors_list = []\n",
    "    for i in range(1, number + 1): \n",
    "        if number % i == 0:  \n",
    "            factors_list.append(i)\n",
    "    return factors_list\n",
    "\n",
    "number = int(input(\"Please Enter the Number: \"))\n",
    "\n",
    "print(f\"The factors of {number} are: {factors(number)}\")\n"
   ]
  },
  {
   "cell_type": "code",
   "execution_count": 4,
   "metadata": {},
   "outputs": [
    {
     "name": "stdout",
     "output_type": "stream",
     "text": [
      "The factorial of 12 is: 479001600\n"
     ]
    }
   ],
   "source": [
    "#2 Write a Programme to find Factorial of Given Number Using Recursion. \n",
    "\n",
    "def factorial(n):\n",
    "    if n == 0 or n == 1:\n",
    "        return 1\n",
    "    return n * factorial(n - 1)\n",
    "\n",
    "num = 12\n",
    "result = factorial(num)\n",
    "\n",
    "print(f\"The factorial of {num} is: {result}\")\n",
    "\n",
    "\n"
   ]
  },
  {
   "cell_type": "code",
   "execution_count": null,
   "metadata": {},
   "outputs": [
    {
     "name": "stdout",
     "output_type": "stream",
     "text": [
      "*********\n",
      "       *\n",
      "      *\n",
      "     *\n",
      "    *\n",
      "   *\n",
      "  *\n",
      " *\n",
      "*********\n"
     ]
    }
   ],
   "source": [
    "#3 Write a Programme to following Pattern ( z star pattern)\n",
    "\n",
    "\n",
    "\n",
    "def print_z_pattern(n):\n",
    "    for i in range(n):\n",
    "        if i == 0 or i == n - 1:\n",
    "            print('*' * n)  \n",
    "        else:\n",
    "            print(' ' * (n - i - 1) + '*')  \n",
    "\n",
    "\n",
    "n = 9\n",
    "print_z_pattern(n)\n",
    "\n"
   ]
  },
  {
   "cell_type": "code",
   "execution_count": null,
   "metadata": {},
   "outputs": [],
   "source": []
  }
 ],
 "metadata": {
  "kernelspec": {
   "display_name": "Python 3",
   "language": "python",
   "name": "python3"
  },
  "language_info": {
   "codemirror_mode": {
    "name": "ipython",
    "version": 3
   },
   "file_extension": ".py",
   "mimetype": "text/x-python",
   "name": "python",
   "nbconvert_exporter": "python",
   "pygments_lexer": "ipython3",
   "version": "3.11.1"
  }
 },
 "nbformat": 4,
 "nbformat_minor": 2
}
