{
 "cells": [
  {
   "cell_type": "code",
   "execution_count": null,
   "metadata": {},
   "outputs": [
    {
     "name": "stdout",
     "output_type": "stream",
     "text": [
      "Total Area of the shape: 139.29 square units\n",
      "Total Perimeter of the shape: 45.71 units\n"
     ]
    }
   ],
   "source": [
    "\n",
    "length = int(input(\"Enter the length of the rectangle: \"))\n",
    "breadth = int(input(\"Enter the breadth of the rectangle: \"))\n",
    "radius = int(input(\"Enter the radius of the semicircle: \"))\n",
    "\n",
    "if radius * 2 != breadth:\n",
    "    print(\"Error: Radius should be half of the breadth of the rectangle.\")\n",
    "else:\n",
    "    rectangular_area = length * breadth\n",
    "    semicircular_area = (3.14 * radius * radius) / 2\n",
    "    total_area = rectangular_area + semicircular_area\n",
    "\n",
    "    rectangular_perimeter = 2 * length + 2 * (breadth - radius)\n",
    "    semicircular_perimeter = 3.14 * radius\n",
    "    total_perimeter = rectangular_perimeter + semicircular_perimeter\n",
    "\n",
    "    print(\"Total Area of the shape:\", round(total_area, 2), \"square units\")\n",
    "    print(\"Total Perimeter of the shape:\", round(total_perimeter, 2), \"units\")\n"
   ]
  },
  {
   "cell_type": "code",
   "execution_count": null,
   "metadata": {},
   "outputs": [],
   "source": []
  }
 ],
 "metadata": {
  "kernelspec": {
   "display_name": "Python 3",
   "language": "python",
   "name": "python3"
  },
  "language_info": {
   "codemirror_mode": {
    "name": "ipython",
    "version": 3
   },
   "file_extension": ".py",
   "mimetype": "text/x-python",
   "name": "python",
   "nbconvert_exporter": "python",
   "pygments_lexer": "ipython3",
   "version": "3.11.1"
  }
 },
 "nbformat": 4,
 "nbformat_minor": 2
}
