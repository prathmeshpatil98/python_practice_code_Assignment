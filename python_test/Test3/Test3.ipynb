{
 "cells": [
  {
   "cell_type": "code",
   "execution_count": 15,
   "metadata": {},
   "outputs": [
    {
     "name": "stdout",
     "output_type": "stream",
     "text": [
      "2\n",
      "3\n"
     ]
    }
   ],
   "source": [
    "# write a programme to print first n prime numbers.\n",
    "\n",
    "def Prime_number(n):\n",
    "    prime1 = []\n",
    "    for i in range(2,n):\n",
    "        for j in range(2,i):\n",
    "            if(i % j == 0):\n",
    "                break\n",
    "        else:\n",
    "            print(i)\n",
    "            # prime1.append(i)\n",
    "    # print(prime1)\n",
    "\n",
    "n = int(input(\"Please Enter the Number : \"))\n",
    "Prime_number(n)\n"
   ]
  },
  {
   "cell_type": "code",
   "execution_count": 17,
   "metadata": {},
   "outputs": [
    {
     "name": "stdout",
     "output_type": "stream",
     "text": [
      "50\n"
     ]
    }
   ],
   "source": [
    "#Question 2 write a programme to calculate the sum of the following series where n is input by user i/i! + 1/2! + n/n!.\n",
    "\n",
    "def sum_of_Factorial():\n",
    "    n = int(input(\"Please Enter the number : \"))\n",
    "    ans = 0\n",
    "    for i in range(1 ,n):\n",
    "        ans += i\n",
    "        for j in range(1 , n):\n",
    "            ans += i\n",
    "    print(ans)\n",
    "    \n",
    "sum_of_Factorial()"
   ]
  },
  {
   "cell_type": "code",
   "execution_count": null,
   "metadata": {},
   "outputs": [],
   "source": [
    "#QUestion 3 Write a programme to accept basic salary of n emp.(n should be accepted )\n",
    "\n"
   ]
  },
  {
   "cell_type": "code",
   "execution_count": null,
   "metadata": {},
   "outputs": [],
   "source": [
    "#Question 4 "
   ]
  }
 ],
 "metadata": {
  "kernelspec": {
   "display_name": "Python 3",
   "language": "python",
   "name": "python3"
  },
  "language_info": {
   "codemirror_mode": {
    "name": "ipython",
    "version": 3
   },
   "file_extension": ".py",
   "mimetype": "text/x-python",
   "name": "python",
   "nbconvert_exporter": "python",
   "pygments_lexer": "ipython3",
   "version": "3.11.1"
  }
 },
 "nbformat": 4,
 "nbformat_minor": 2
}
